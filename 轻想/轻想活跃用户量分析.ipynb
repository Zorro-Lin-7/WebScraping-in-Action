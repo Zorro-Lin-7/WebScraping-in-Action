{
 "cells": [
  {
   "cell_type": "code",
   "execution_count": 1,
   "metadata": {
    "collapsed": false
   },
   "outputs": [],
   "source": [
    "import pymongo\n",
    "import pandas as pd\n",
    "import seaborn as sns\n",
    "%matplotlib inline"
   ]
  },
  {
   "cell_type": "code",
   "execution_count": 2,
   "metadata": {
    "collapsed": true
   },
   "outputs": [],
   "source": [
    "client=pymongo.MongoClient('localhost',27017)\n",
    "qingxiang = client['qingxiang']\n",
    "lz_info=qingxiang['lz_info']"
   ]
  },
  {
   "cell_type": "code",
   "execution_count": 3,
   "metadata": {
    "collapsed": false
   },
   "outputs": [],
   "source": [
    "df=pd.DataFrame(list(lz_info.find({},{'_id':0})))"
   ]
  },
  {
   "cell_type": "code",
   "execution_count": 4,
   "metadata": {
    "collapsed": false
   },
   "outputs": [
    {
     "data": {
      "text/plain": [
       "(15038, 9)"
      ]
     },
     "execution_count": 4,
     "metadata": {},
     "output_type": "execute_result"
    }
   ],
   "source": [
    "df.shape"
   ]
  },
  {
   "cell_type": "code",
   "execution_count": 5,
   "metadata": {
    "collapsed": false
   },
   "outputs": [
    {
     "data": {
      "text/html": [
       "<div>\n",
       "<table border=\"1\" class=\"dataframe\">\n",
       "  <thead>\n",
       "    <tr style=\"text-align: right;\">\n",
       "      <th></th>\n",
       "      <th>description</th>\n",
       "      <th>hot</th>\n",
       "      <th>nickname</th>\n",
       "      <th>planId</th>\n",
       "      <th>tags</th>\n",
       "      <th>title</th>\n",
       "      <th>uid</th>\n",
       "      <th>url</th>\n",
       "      <th>witness</th>\n",
       "    </tr>\n",
       "  </thead>\n",
       "  <tbody>\n",
       "    <tr>\n",
       "      <th>0</th>\n",
       "      <td>在这个连载，你可以把每天见到的有趣的风景记录下来。</td>\n",
       "      <td>2</td>\n",
       "      <td>习惯不曾习惯的习惯wo</td>\n",
       "      <td>105800</td>\n",
       "      <td>[]</td>\n",
       "      <td>每日一拍</td>\n",
       "      <td>193644</td>\n",
       "      <td>http://www.lianzai.me/planDetail/193644/105800...</td>\n",
       "      <td>0</td>\n",
       "    </tr>\n",
       "    <tr>\n",
       "      <th>1</th>\n",
       "      <td>人体练习100天</td>\n",
       "      <td>250</td>\n",
       "      <td>一位正襟危坐的外星友人</td>\n",
       "      <td>84176</td>\n",
       "      <td>[]</td>\n",
       "      <td>人体练习100天</td>\n",
       "      <td>105630</td>\n",
       "      <td>http://www.lianzai.me/planDetail/105630/84176....</td>\n",
       "      <td>16</td>\n",
       "    </tr>\n",
       "    <tr>\n",
       "      <th>2</th>\n",
       "      <td>在这个连载，你可以把每天见到的有趣的风景记录下来。</td>\n",
       "      <td>4</td>\n",
       "      <td>阿沅</td>\n",
       "      <td>104379</td>\n",
       "      <td>[]</td>\n",
       "      <td>沅映像</td>\n",
       "      <td>193939</td>\n",
       "      <td>http://www.lianzai.me/planDetail/193939/104379...</td>\n",
       "      <td>0</td>\n",
       "    </tr>\n",
       "    <tr>\n",
       "      <th>3</th>\n",
       "      <td>人体练习！加油！</td>\n",
       "      <td>10</td>\n",
       "      <td>鲶鱼叽</td>\n",
       "      <td>106078</td>\n",
       "      <td>[绘画人体练习, 练习人体100天, 人体练习]</td>\n",
       "      <td>人体练习100天</td>\n",
       "      <td>102165</td>\n",
       "      <td>http://www.lianzai.me/planDetail/102165/106078...</td>\n",
       "      <td>0</td>\n",
       "    </tr>\n",
       "    <tr>\n",
       "      <th>4</th>\n",
       "      <td>在这个连载，你可以把每天见到的有趣的风景记录下来。</td>\n",
       "      <td>11</td>\n",
       "      <td>C.Tommy</td>\n",
       "      <td>94832</td>\n",
       "      <td>[摄影, 日记, 手机摄影, 生活]</td>\n",
       "      <td>扌聂 景彡 生 氵舌</td>\n",
       "      <td>195950</td>\n",
       "      <td>http://www.lianzai.me/planDetail/195950/94832....</td>\n",
       "      <td>0</td>\n",
       "    </tr>\n",
       "  </tbody>\n",
       "</table>\n",
       "</div>"
      ],
      "text/plain": [
       "                 description  hot     nickname  planId  \\\n",
       "0  在这个连载，你可以把每天见到的有趣的风景记录下来。    2  习惯不曾习惯的习惯wo  105800   \n",
       "1                   人体练习100天  250  一位正襟危坐的外星友人   84176   \n",
       "2  在这个连载，你可以把每天见到的有趣的风景记录下来。    4           阿沅  104379   \n",
       "3                   人体练习！加油！   10          鲶鱼叽  106078   \n",
       "4  在这个连载，你可以把每天见到的有趣的风景记录下来。   11      C.Tommy   94832   \n",
       "\n",
       "                       tags       title     uid  \\\n",
       "0                        []        每日一拍  193644   \n",
       "1                        []    人体练习100天  105630   \n",
       "2                        []         沅映像  193939   \n",
       "3  [绘画人体练习, 练习人体100天, 人体练习]    人体练习100天  102165   \n",
       "4        [摄影, 日记, 手机摄影, 生活]  扌聂 景彡 生 氵舌  195950   \n",
       "\n",
       "                                                 url witness  \n",
       "0  http://www.lianzai.me/planDetail/193644/105800...       0  \n",
       "1  http://www.lianzai.me/planDetail/105630/84176....      16  \n",
       "2  http://www.lianzai.me/planDetail/193939/104379...       0  \n",
       "3  http://www.lianzai.me/planDetail/102165/106078...       0  \n",
       "4  http://www.lianzai.me/planDetail/195950/94832....       0  "
      ]
     },
     "execution_count": 5,
     "metadata": {},
     "output_type": "execute_result"
    }
   ],
   "source": [
    "df.head()"
   ]
  },
  {
   "cell_type": "code",
   "execution_count": 6,
   "metadata": {
    "collapsed": false
   },
   "outputs": [],
   "source": [
    "df=df.reindex(columns=['nickname','uid','planId','hot','witness','tags','title','description','url'])"
   ]
  },
  {
   "cell_type": "code",
   "execution_count": 7,
   "metadata": {
    "collapsed": false
   },
   "outputs": [
    {
     "data": {
      "text/plain": [
       "7400"
      ]
     },
     "execution_count": 7,
     "metadata": {},
     "output_type": "execute_result"
    }
   ],
   "source": [
    "len(df.uid.unique())"
   ]
  },
  {
   "cell_type": "markdown",
   "metadata": {},
   "source": [
    "共（发起过连载的）用户有7400人"
   ]
  },
  {
   "cell_type": "code",
   "execution_count": 8,
   "metadata": {
    "collapsed": false
   },
   "outputs": [
    {
     "data": {
      "text/plain": [
       "15029"
      ]
     },
     "execution_count": 8,
     "metadata": {},
     "output_type": "execute_result"
    }
   ],
   "source": [
    "len(df.planId.unique()) # 共有独立连载15029起。"
   ]
  },
  {
   "cell_type": "markdown",
   "metadata": {},
   "source": [
    "因为数据量不算充足，用户的粉丝数、关注数等用户直观信息比较静态，难反映用户活跃程度,有可能粉丝数不少，但人已经流失了。所以从用户的发生的行为，即连载的情况来分析。\n",
    "因为是从’最新‘这个版块下抓取的信息，用户有公开的动态更新，按照时间先后呈现在“最新”的前几页。但有的用户可能有更新连载，但该连载设置为隐私，则无法判断这部分用户活跃程度。\n",
    "因此，对象讨论范围限制是：公开的连载，某一段时间内，有效的活跃用户。\n",
    "更具体的：因为这1.5W个连载应该是接近全部的连载数量了，后面的连载大部分是不活跃的。几个可能的情形是：用户开的连载属于“日”记高频类，比如练习画画，每日一涂、每日早餐等，那么每天都会更新，100天就连续活跃100天；但100天后就完结了该连载，也就无法反映该用户后续的留存情况和活跃程度，需从其他维度来看。\n",
    "所以用连载频率这个指标，能反映单个用户（只此用户）、某段时间内的活跃程度，不一定能反映整体以及留存（后续的活跃程度）"
   ]
  },
  {
   "cell_type": "code",
   "execution_count": 10,
   "metadata": {
    "collapsed": false
   },
   "outputs": [],
   "source": [
    "df[['uid','planId','hot','witness']]=df[['uid','planId','hot','witness']].apply(pd.to_numeric)"
   ]
  },
  {
   "cell_type": "code",
   "execution_count": 11,
   "metadata": {
    "collapsed": false
   },
   "outputs": [],
   "source": [
    "#查看连载热度（包含指标：用户更新频率和见证人浏览量）\n",
    "hot=df.sort_values('hot',ascending=False)"
   ]
  },
  {
   "cell_type": "code",
   "execution_count": 12,
   "metadata": {
    "collapsed": false
   },
   "outputs": [],
   "source": [
    "hundred=hot.head(100)  # 热度百强榜。"
   ]
  },
  {
   "cell_type": "code",
   "execution_count": 14,
   "metadata": {
    "collapsed": false
   },
   "outputs": [
    {
     "data": {
      "text/html": [
       "<div>\n",
       "<table border=\"1\" class=\"dataframe\">\n",
       "  <thead>\n",
       "    <tr style=\"text-align: right;\">\n",
       "      <th></th>\n",
       "      <th>nickname</th>\n",
       "      <th>uid</th>\n",
       "      <th>planId</th>\n",
       "      <th>hot</th>\n",
       "      <th>witness</th>\n",
       "      <th>tags</th>\n",
       "      <th>title</th>\n",
       "      <th>description</th>\n",
       "      <th>url</th>\n",
       "    </tr>\n",
       "  </thead>\n",
       "  <tbody>\n",
       "    <tr>\n",
       "      <th>12144</th>\n",
       "      <td>轻想连载专题</td>\n",
       "      <td>100001</td>\n",
       "      <td>10017</td>\n",
       "      <td>23515</td>\n",
       "      <td>3254</td>\n",
       "      <td>[你的照片我来画, 绘画, 插画, 手绘, 水彩]</td>\n",
       "      <td>官方|你的照片我来画</td>\n",
       "      <td>下载最新版本“轻想连载”APP专题入口，可以进入免费投稿画照片通道哟。</td>\n",
       "      <td>http://www.lianzai.me/planDetail/100001/10017....</td>\n",
       "    </tr>\n",
       "    <tr>\n",
       "      <th>9234</th>\n",
       "      <td>狐狸同学</td>\n",
       "      <td>101101</td>\n",
       "      <td>13406</td>\n",
       "      <td>14788</td>\n",
       "      <td>2136</td>\n",
       "      <td>[你的照片我来画, 插画, 绘画]</td>\n",
       "      <td>你的照片我来画</td>\n",
       "      <td>可爱的妹子or男孩子太多辣</td>\n",
       "      <td>http://www.lianzai.me/planDetail/101101/13406....</td>\n",
       "    </tr>\n",
       "    <tr>\n",
       "      <th>98</th>\n",
       "      <td>狐狸同学</td>\n",
       "      <td>101101</td>\n",
       "      <td>15758</td>\n",
       "      <td>12979</td>\n",
       "      <td>1582</td>\n",
       "      <td>[漫画, 废柴狐阿桔, 阿桔]</td>\n",
       "      <td>狐阿桔-福利贴</td>\n",
       "      <td>一只废柴狐狸的日常</td>\n",
       "      <td>http://www.lianzai.me/planDetail/101101/15758....</td>\n",
       "    </tr>\n",
       "    <tr>\n",
       "      <th>6961</th>\n",
       "      <td>切尸红人魔</td>\n",
       "      <td>307648</td>\n",
       "      <td>15797</td>\n",
       "      <td>12776</td>\n",
       "      <td>2159</td>\n",
       "      <td>[绘画, 插画, 涂鸦, 你的照片我来画]</td>\n",
       "      <td>切氏画像</td>\n",
       "      <td>有偿约稿请联系小编企鹅782155693</td>\n",
       "      <td>http://www.lianzai.me/planDetail/307648/15797....</td>\n",
       "    </tr>\n",
       "    <tr>\n",
       "      <th>2507</th>\n",
       "      <td>狐狸同学</td>\n",
       "      <td>101101</td>\n",
       "      <td>28079</td>\n",
       "      <td>12074</td>\n",
       "      <td>1553</td>\n",
       "      <td>[漫画]</td>\n",
       "      <td>废柴狐阿桔</td>\n",
       "      <td>漫画：狐狸\\n编剧&amp;主编：shane-小菜 程御迦\\n上色：阿柴\\n协力：苏小五\\n制作：轻...</td>\n",
       "      <td>http://www.lianzai.me/planDetail/101101/28079....</td>\n",
       "    </tr>\n",
       "    <tr>\n",
       "      <th>2456</th>\n",
       "      <td>shane-小菜</td>\n",
       "      <td>100000</td>\n",
       "      <td>10024</td>\n",
       "      <td>11688</td>\n",
       "      <td>2085</td>\n",
       "      <td>[色彩, 插画, 教程, 原画, 漫画]</td>\n",
       "      <td>小菜绘画问答</td>\n",
       "      <td>一起学画画</td>\n",
       "      <td>http://www.lianzai.me/planDetail/100000/10024....</td>\n",
       "    </tr>\n",
       "    <tr>\n",
       "      <th>798</th>\n",
       "      <td>shane-小菜</td>\n",
       "      <td>100000</td>\n",
       "      <td>64794</td>\n",
       "      <td>11110</td>\n",
       "      <td>1363</td>\n",
       "      <td>[每日一图, 人体练习, 人体训练100天, 涂鸦]</td>\n",
       "      <td>100天1000个人体3000个见证</td>\n",
       "      <td>目标是每天10个人体，100天后画漫画，给我1000个见证监督，学习资料下载http://p...</td>\n",
       "      <td>http://www.lianzai.me/planDetail/100000/64794....</td>\n",
       "    </tr>\n",
       "    <tr>\n",
       "      <th>142</th>\n",
       "      <td>临暗式</td>\n",
       "      <td>303940</td>\n",
       "      <td>17094</td>\n",
       "      <td>10148</td>\n",
       "      <td>604</td>\n",
       "      <td>[脑洞, 漫画, 绘画, 插画, 原创]</td>\n",
       "      <td>杂物幻想</td>\n",
       "      <td>日常脑洞 推荐微博主：@tango2010</td>\n",
       "      <td>http://www.lianzai.me/planDetail/303940/17094....</td>\n",
       "    </tr>\n",
       "    <tr>\n",
       "      <th>1669</th>\n",
       "      <td>shane-小菜</td>\n",
       "      <td>100000</td>\n",
       "      <td>10367</td>\n",
       "      <td>9475</td>\n",
       "      <td>129</td>\n",
       "      <td>[生活, 晚安, 日记, 情感]</td>\n",
       "      <td>晚安日记</td>\n",
       "      <td>想好好写日记（封面by阿梗）</td>\n",
       "      <td>http://www.lianzai.me/planDetail/100000/10367....</td>\n",
       "    </tr>\n",
       "    <tr>\n",
       "      <th>1310</th>\n",
       "      <td>山林食纪</td>\n",
       "      <td>104288</td>\n",
       "      <td>13800</td>\n",
       "      <td>8888</td>\n",
       "      <td>613</td>\n",
       "      <td>[摄影, 静物, 美食]</td>\n",
       "      <td>山林食纪</td>\n",
       "      <td>曲径通幽，山林食纪。</td>\n",
       "      <td>http://www.lianzai.me/planDetail/104288/13800....</td>\n",
       "    </tr>\n",
       "    <tr>\n",
       "      <th>8038</th>\n",
       "      <td>阿依达娜</td>\n",
       "      <td>277951</td>\n",
       "      <td>57641</td>\n",
       "      <td>8785</td>\n",
       "      <td>205</td>\n",
       "      <td>[新星瞩目]</td>\n",
       "      <td>新星瞩目</td>\n",
       "      <td>小伙伴们来点赞啦 我在这儿等你好久了呢</td>\n",
       "      <td>http://www.lianzai.me/planDetail/277951/57641....</td>\n",
       "    </tr>\n",
       "    <tr>\n",
       "      <th>4725</th>\n",
       "      <td>安吉叔叔</td>\n",
       "      <td>100177</td>\n",
       "      <td>10201</td>\n",
       "      <td>8230</td>\n",
       "      <td>1311</td>\n",
       "      <td>[绘画, 摄影, 穿搭, 我拍照片我来画, 你的照片我来画]</td>\n",
       "      <td>我拍照片我来画</td>\n",
       "      <td>配色好方法=v=</td>\n",
       "      <td>http://www.lianzai.me/planDetail/100177/10201....</td>\n",
       "    </tr>\n",
       "    <tr>\n",
       "      <th>4745</th>\n",
       "      <td>逆也</td>\n",
       "      <td>101083</td>\n",
       "      <td>11657</td>\n",
       "      <td>7995</td>\n",
       "      <td>1187</td>\n",
       "      <td>[绘画, 插画, 手绘]</td>\n",
       "      <td>画画！</td>\n",
       "      <td>工事中！</td>\n",
       "      <td>http://www.lianzai.me/planDetail/101083/11657....</td>\n",
       "    </tr>\n",
       "    <tr>\n",
       "      <th>7825</th>\n",
       "      <td>王佳</td>\n",
       "      <td>277956</td>\n",
       "      <td>57147</td>\n",
       "      <td>7758</td>\n",
       "      <td>191</td>\n",
       "      <td>[新星瞩目]</td>\n",
       "      <td>新星瞩目</td>\n",
       "      <td>噫，不知道怎么说才是坠吼滴。旁友们请见证这个连载！！</td>\n",
       "      <td>http://www.lianzai.me/planDetail/277956/57147....</td>\n",
       "    </tr>\n",
       "    <tr>\n",
       "      <th>2916</th>\n",
       "      <td>海牙Hiya</td>\n",
       "      <td>222222</td>\n",
       "      <td>10345</td>\n",
       "      <td>7186</td>\n",
       "      <td>858</td>\n",
       "      <td>[生活, 留学, 摄影, 插画]</td>\n",
       "      <td>Learn Illustration in UK 英国学插画</td>\n",
       "      <td>The journal of studying illustration in UK (li...</td>\n",
       "      <td>http://www.lianzai.me/planDetail/222222/10345....</td>\n",
       "    </tr>\n",
       "    <tr>\n",
       "      <th>2688</th>\n",
       "      <td>Zxiquan溪泉</td>\n",
       "      <td>101165</td>\n",
       "      <td>14550</td>\n",
       "      <td>7147</td>\n",
       "      <td>614</td>\n",
       "      <td>[你的照片我来画, 绘画, 手绘, 水彩]</td>\n",
       "      <td>你的照片我来画</td>\n",
       "      <td>约稿，工作请加微信：506488783</td>\n",
       "      <td>http://www.lianzai.me/planDetail/101165/14550....</td>\n",
       "    </tr>\n",
       "    <tr>\n",
       "      <th>6245</th>\n",
       "      <td>alnic是阿茶</td>\n",
       "      <td>101046</td>\n",
       "      <td>11353</td>\n",
       "      <td>7011</td>\n",
       "      <td>1004</td>\n",
       "      <td>[绘画, 你的照片我来画, 手绘, 插画, 画像]</td>\n",
       "      <td>你的照片我来画</td>\n",
       "      <td>我会尽力画好每一张照片！</td>\n",
       "      <td>http://www.lianzai.me/planDetail/101046/11353....</td>\n",
       "    </tr>\n",
       "    <tr>\n",
       "      <th>2912</th>\n",
       "      <td>芜意</td>\n",
       "      <td>306402</td>\n",
       "      <td>15711</td>\n",
       "      <td>5869</td>\n",
       "      <td>846</td>\n",
       "      <td>[每日一涂, 插画, 涂鸦, 原创, 日记]</td>\n",
       "      <td>每日一涂</td>\n",
       "      <td>如果每天有一张，一个月就有30张，一年就有365张。这是与懒癌的斗争。不管有没有完成度，至少...</td>\n",
       "      <td>http://www.lianzai.me/planDetail/306402/15711....</td>\n",
       "    </tr>\n",
       "    <tr>\n",
       "      <th>1499</th>\n",
       "      <td>Oldlee</td>\n",
       "      <td>307358</td>\n",
       "      <td>15598</td>\n",
       "      <td>5765</td>\n",
       "      <td>693</td>\n",
       "      <td>[绘画, 插画, 你的照片我来画, 妹子, 日系]</td>\n",
       "      <td>你的照片我来画</td>\n",
       "      <td>给你们的画~</td>\n",
       "      <td>http://www.lianzai.me/planDetail/307358/15598....</td>\n",
       "    </tr>\n",
       "    <tr>\n",
       "      <th>4576</th>\n",
       "      <td>妆成网红</td>\n",
       "      <td>275565</td>\n",
       "      <td>67200</td>\n",
       "      <td>5553</td>\n",
       "      <td>239</td>\n",
       "      <td>[演说家]</td>\n",
       "      <td>妆成网红</td>\n",
       "      <td>在这个连载，你可以记录你生活有意思的点点滴滴。</td>\n",
       "      <td>http://www.lianzai.me/planDetail/275565/67200....</td>\n",
       "    </tr>\n",
       "    <tr>\n",
       "      <th>951</th>\n",
       "      <td>我其实真的很不错</td>\n",
       "      <td>300589</td>\n",
       "      <td>18814</td>\n",
       "      <td>5544</td>\n",
       "      <td>76</td>\n",
       "      <td>[生活, 记录]</td>\n",
       "      <td>不动声色</td>\n",
       "      <td>每天都有好多话想讲 却没有可以认真听你说话的人 记录成了拯救生活的事 。</td>\n",
       "      <td>http://www.lianzai.me/planDetail/300589/18814....</td>\n",
       "    </tr>\n",
       "    <tr>\n",
       "      <th>2435</th>\n",
       "      <td>Asaki桑</td>\n",
       "      <td>101405</td>\n",
       "      <td>10286</td>\n",
       "      <td>5376</td>\n",
       "      <td>513</td>\n",
       "      <td>[插画, 推荐]</td>\n",
       "      <td>我喜欢的画师是男是女是基是腐</td>\n",
       "      <td>向崇拜的大神们致敬</td>\n",
       "      <td>http://www.lianzai.me/planDetail/101405/10286....</td>\n",
       "    </tr>\n",
       "    <tr>\n",
       "      <th>850</th>\n",
       "      <td>Jamie</td>\n",
       "      <td>104134</td>\n",
       "      <td>13502</td>\n",
       "      <td>5372</td>\n",
       "      <td>702</td>\n",
       "      <td>[绘画, 脑洞, 漫画, 原创]</td>\n",
       "      <td>Jamie脑洞漫画</td>\n",
       "      <td>欢迎关注微博Jamie漫想，观看第一手更新。</td>\n",
       "      <td>http://www.lianzai.me/planDetail/104134/13502....</td>\n",
       "    </tr>\n",
       "    <tr>\n",
       "      <th>1654</th>\n",
       "      <td>huanxi</td>\n",
       "      <td>123456</td>\n",
       "      <td>14456</td>\n",
       "      <td>5367</td>\n",
       "      <td>75</td>\n",
       "      <td>[生活, 观点, 今天怎么不开心, 今天怎么又开心了]</td>\n",
       "      <td>你看，这是非客观的我！</td>\n",
       "      <td>坦率地讲，我说的话十有八九是非客观的，并且我还试图让你接受它。</td>\n",
       "      <td>http://www.lianzai.me/planDetail/123456/14456....</td>\n",
       "    </tr>\n",
       "    <tr>\n",
       "      <th>11045</th>\n",
       "      <td>钢铁墨</td>\n",
       "      <td>100066</td>\n",
       "      <td>14044</td>\n",
       "      <td>5320</td>\n",
       "      <td>738</td>\n",
       "      <td>[插画, 涂鸦, 生活, 日常, 你的照片我来画]</td>\n",
       "      <td>我也来画照片~嘿</td>\n",
       "      <td>童话世界</td>\n",
       "      <td>http://www.lianzai.me/planDetail/100066/14044....</td>\n",
       "    </tr>\n",
       "    <tr>\n",
       "      <th>6494</th>\n",
       "      <td>林井西</td>\n",
       "      <td>308238</td>\n",
       "      <td>15295</td>\n",
       "      <td>5160</td>\n",
       "      <td>1102</td>\n",
       "      <td>[你的照片我来画, 少女, 绘画, 插画, 涂鸦]</td>\n",
       "      <td>你的照片我来画</td>\n",
       "      <td>有偿约稿q：623119116 按照自己的想法画，不会画的和照片一模一样。介意慎约</td>\n",
       "      <td>http://www.lianzai.me/planDetail/308238/15295....</td>\n",
       "    </tr>\n",
       "    <tr>\n",
       "      <th>8253</th>\n",
       "      <td>草千</td>\n",
       "      <td>101243</td>\n",
       "      <td>11455</td>\n",
       "      <td>5046</td>\n",
       "      <td>864</td>\n",
       "      <td>[绘画自拍, 时尚达人, 穿搭, 插画]</td>\n",
       "      <td>我和画</td>\n",
       "      <td>画自己想画的画，穿自己想穿的衣服，做一个像自己画一样的人</td>\n",
       "      <td>http://www.lianzai.me/planDetail/101243/11455....</td>\n",
       "    </tr>\n",
       "    <tr>\n",
       "      <th>11426</th>\n",
       "      <td>eeriness</td>\n",
       "      <td>102855</td>\n",
       "      <td>15037</td>\n",
       "      <td>4857</td>\n",
       "      <td>448</td>\n",
       "      <td>[互动连载, 你的照片我来画, 手绘, 画照片, 绘画]</td>\n",
       "      <td>你的照片我来画</td>\n",
       "      <td>谢各位厚爱，私信我画照片是有偿的，投稿请去翻牌墙。\\n\\n微博：@eeriness哟</td>\n",
       "      <td>http://www.lianzai.me/planDetail/102855/15037....</td>\n",
       "    </tr>\n",
       "    <tr>\n",
       "      <th>9124</th>\n",
       "      <td>极昼士</td>\n",
       "      <td>305708</td>\n",
       "      <td>16156</td>\n",
       "      <td>4818</td>\n",
       "      <td>739</td>\n",
       "      <td>[绘画, 插画, 手绘, 水彩]</td>\n",
       "      <td>水彩</td>\n",
       "      <td>水彩类堆积</td>\n",
       "      <td>http://www.lianzai.me/planDetail/305708/16156....</td>\n",
       "    </tr>\n",
       "    <tr>\n",
       "      <th>3165</th>\n",
       "      <td>红糖馒头</td>\n",
       "      <td>307111</td>\n",
       "      <td>15697</td>\n",
       "      <td>4776</td>\n",
       "      <td>554</td>\n",
       "      <td>[你的照片我来画, 日常, 绘画]</td>\n",
       "      <td>。</td>\n",
       "      <td>，</td>\n",
       "      <td>http://www.lianzai.me/planDetail/307111/15697....</td>\n",
       "    </tr>\n",
       "    <tr>\n",
       "      <th>...</th>\n",
       "      <td>...</td>\n",
       "      <td>...</td>\n",
       "      <td>...</td>\n",
       "      <td>...</td>\n",
       "      <td>...</td>\n",
       "      <td>...</td>\n",
       "      <td>...</td>\n",
       "      <td>...</td>\n",
       "      <td>...</td>\n",
       "    </tr>\n",
       "    <tr>\n",
       "      <th>2204</th>\n",
       "      <td>关山</td>\n",
       "      <td>305695</td>\n",
       "      <td>21375</td>\n",
       "      <td>3302</td>\n",
       "      <td>230</td>\n",
       "      <td>[原创, 漫画, 绘画, 插画]</td>\n",
       "      <td>關山的花園</td>\n",
       "      <td>明明如月</td>\n",
       "      <td>http://www.lianzai.me/planDetail/305695/21375....</td>\n",
       "    </tr>\n",
       "    <tr>\n",
       "      <th>7493</th>\n",
       "      <td>林井西</td>\n",
       "      <td>308238</td>\n",
       "      <td>14557</td>\n",
       "      <td>3275</td>\n",
       "      <td>648</td>\n",
       "      <td>[插画, 涂鸦, 绘画]</td>\n",
       "      <td>秘密</td>\n",
       "      <td>有时候想画画，有时候不想画画。</td>\n",
       "      <td>http://www.lianzai.me/planDetail/308238/14557....</td>\n",
       "    </tr>\n",
       "    <tr>\n",
       "      <th>1686</th>\n",
       "      <td>璇子_gyx</td>\n",
       "      <td>102248</td>\n",
       "      <td>11864</td>\n",
       "      <td>3239</td>\n",
       "      <td>297</td>\n",
       "      <td>[青春, 生活自拍, 时尚达人, 日记, 学习]</td>\n",
       "      <td>小璇子的手帐本</td>\n",
       "      <td>璇子_gyx(我的微博名！)的日常手帐本</td>\n",
       "      <td>http://www.lianzai.me/planDetail/102248/11864....</td>\n",
       "    </tr>\n",
       "    <tr>\n",
       "      <th>10027</th>\n",
       "      <td>朱阿便</td>\n",
       "      <td>23333</td>\n",
       "      <td>10129</td>\n",
       "      <td>3215</td>\n",
       "      <td>433</td>\n",
       "      <td>[摄影, 人物生活, 美女]</td>\n",
       "      <td>100个关节线条</td>\n",
       "      <td>分明的关节很性感不是吗</td>\n",
       "      <td>http://www.lianzai.me/planDetail/23333/10129.h...</td>\n",
       "    </tr>\n",
       "    <tr>\n",
       "      <th>232</th>\n",
       "      <td>易水癫</td>\n",
       "      <td>105048</td>\n",
       "      <td>17208</td>\n",
       "      <td>3214</td>\n",
       "      <td>128</td>\n",
       "      <td>[手工, 嵌银, 制刀]</td>\n",
       "      <td>手工的温度——嵌银</td>\n",
       "      <td>延续一个古老的工艺，传统手法，使用过盈嵌法，不用一滴胶水。\\n把视觉传达中的知识运用到嵌银中去</td>\n",
       "      <td>http://www.lianzai.me/planDetail/105048/17208....</td>\n",
       "    </tr>\n",
       "    <tr>\n",
       "      <th>4947</th>\n",
       "      <td>兔丫</td>\n",
       "      <td>104939</td>\n",
       "      <td>16895</td>\n",
       "      <td>3170</td>\n",
       "      <td>425</td>\n",
       "      <td>[学习, 日记, 橡皮章, 手作, 文具]</td>\n",
       "      <td>章</td>\n",
       "      <td>释放压力，千奇百怪，你别奇怪。 从此一把小黄走天下 。</td>\n",
       "      <td>http://www.lianzai.me/planDetail/104939/16895....</td>\n",
       "    </tr>\n",
       "    <tr>\n",
       "      <th>3561</th>\n",
       "      <td>CC-Gordon</td>\n",
       "      <td>305023</td>\n",
       "      <td>16606</td>\n",
       "      <td>3147</td>\n",
       "      <td>475</td>\n",
       "      <td>[插画, 摄影少女, 绘画]</td>\n",
       "      <td>女票是第一生产力</td>\n",
       "      <td>今天有个同事问我：“你的业余时间的80%是不是都在给你女朋友拍照？”我说：“当然不是了，我还...</td>\n",
       "      <td>http://www.lianzai.me/planDetail/305023/16606....</td>\n",
       "    </tr>\n",
       "    <tr>\n",
       "      <th>12350</th>\n",
       "      <td>唐斯托toSto</td>\n",
       "      <td>305005</td>\n",
       "      <td>17781</td>\n",
       "      <td>3141</td>\n",
       "      <td>655</td>\n",
       "      <td>[插画, 水彩, 漫画]</td>\n",
       "      <td>唐斯托鬼混日记</td>\n",
       "      <td>生活日常</td>\n",
       "      <td>http://www.lianzai.me/planDetail/305005/17781....</td>\n",
       "    </tr>\n",
       "    <tr>\n",
       "      <th>271</th>\n",
       "      <td>糖葫芦爸。</td>\n",
       "      <td>100982</td>\n",
       "      <td>13501</td>\n",
       "      <td>3140</td>\n",
       "      <td>79</td>\n",
       "      <td>[文学, 分享]</td>\n",
       "      <td>ONE_一个</td>\n",
       "      <td>不要矫情好！</td>\n",
       "      <td>http://www.lianzai.me/planDetail/100982/13501....</td>\n",
       "    </tr>\n",
       "    <tr>\n",
       "      <th>10744</th>\n",
       "      <td>整整</td>\n",
       "      <td>19950323</td>\n",
       "      <td>10147</td>\n",
       "      <td>3136</td>\n",
       "      <td>393</td>\n",
       "      <td>[手作, 橡皮章, 手工, 定制]</td>\n",
       "      <td>印章盒子</td>\n",
       "      <td>(*/ w*)……</td>\n",
       "      <td>http://www.lianzai.me/planDetail/19950323/1014...</td>\n",
       "    </tr>\n",
       "    <tr>\n",
       "      <th>8440</th>\n",
       "      <td>Nigel亲爱的人</td>\n",
       "      <td>104817</td>\n",
       "      <td>20504</td>\n",
       "      <td>3133</td>\n",
       "      <td>506</td>\n",
       "      <td>[日记, 植物, 美食, 爱情, 插画]</td>\n",
       "      <td>“和蔬菜水果谈恋爱”</td>\n",
       "      <td>谈一场纯纯的恋爱吧！</td>\n",
       "      <td>http://www.lianzai.me/planDetail/104817/20504....</td>\n",
       "    </tr>\n",
       "    <tr>\n",
       "      <th>3587</th>\n",
       "      <td>牙妖</td>\n",
       "      <td>102154</td>\n",
       "      <td>11801</td>\n",
       "      <td>3128</td>\n",
       "      <td>401</td>\n",
       "      <td>[绘画, 插画, 手绘]</td>\n",
       "      <td>日常涂鸦练习-</td>\n",
       "      <td>I'm still learning</td>\n",
       "      <td>http://www.lianzai.me/planDetail/102154/11801....</td>\n",
       "    </tr>\n",
       "    <tr>\n",
       "      <th>2491</th>\n",
       "      <td>尹梵</td>\n",
       "      <td>102321</td>\n",
       "      <td>13249</td>\n",
       "      <td>3115</td>\n",
       "      <td>441</td>\n",
       "      <td>[日记, 收集, 学习, 摄影]</td>\n",
       "      <td>认真生活</td>\n",
       "      <td>目标有很多，就不一一赘述了。总之不管打算做什么事、怎么做，归根结底都要保持一个认真生活的态度...</td>\n",
       "      <td>http://www.lianzai.me/planDetail/102321/13249....</td>\n",
       "    </tr>\n",
       "    <tr>\n",
       "      <th>9214</th>\n",
       "      <td>飞行猴</td>\n",
       "      <td>777777</td>\n",
       "      <td>10036</td>\n",
       "      <td>3032</td>\n",
       "      <td>483</td>\n",
       "      <td>[绘画, 手绘, 插画, 色彩, 每日一涂]</td>\n",
       "      <td>每日一图</td>\n",
       "      <td>坚持每日更新一张图</td>\n",
       "      <td>http://www.lianzai.me/planDetail/777777/10036....</td>\n",
       "    </tr>\n",
       "    <tr>\n",
       "      <th>780</th>\n",
       "      <td>路奇</td>\n",
       "      <td>666666</td>\n",
       "      <td>10192</td>\n",
       "      <td>3016</td>\n",
       "      <td>64</td>\n",
       "      <td>[日杂, 有趣, 生活杂记, 日记]</td>\n",
       "      <td>生活碎片点滴</td>\n",
       "      <td>生活小记录，一些有趣的人和事，偶尔刨个坑、种点菜，欢迎品尝~</td>\n",
       "      <td>http://www.lianzai.me/planDetail/666666/10192....</td>\n",
       "    </tr>\n",
       "    <tr>\n",
       "      <th>2370</th>\n",
       "      <td>HangMeQ</td>\n",
       "      <td>305165</td>\n",
       "      <td>16472</td>\n",
       "      <td>2987</td>\n",
       "      <td>499</td>\n",
       "      <td>[旅行, 绘画, 手作, 插画, #你的照片我来画#]</td>\n",
       "      <td>要不画会儿画吧？</td>\n",
       "      <td>一切都是最好的安排</td>\n",
       "      <td>http://www.lianzai.me/planDetail/305165/16472....</td>\n",
       "    </tr>\n",
       "    <tr>\n",
       "      <th>9971</th>\n",
       "      <td>轻雾社</td>\n",
       "      <td>123456789</td>\n",
       "      <td>10462</td>\n",
       "      <td>2977</td>\n",
       "      <td>556</td>\n",
       "      <td>[插画, 漫画]</td>\n",
       "      <td>轻雾社成员作品</td>\n",
       "      <td>轻雾社28名成员的作品合集</td>\n",
       "      <td>http://www.lianzai.me/planDetail/123456789/104...</td>\n",
       "    </tr>\n",
       "    <tr>\n",
       "      <th>1351</th>\n",
       "      <td>左一出</td>\n",
       "      <td>104484</td>\n",
       "      <td>15426</td>\n",
       "      <td>2967</td>\n",
       "      <td>461</td>\n",
       "      <td>[你的照片我来画, 绘画, 手绘, 日常, 学习]</td>\n",
       "      <td>你的照片我来画</td>\n",
       "      <td>加油画满一百！吃土画师求约稿()</td>\n",
       "      <td>http://www.lianzai.me/planDetail/104484/15426....</td>\n",
       "    </tr>\n",
       "    <tr>\n",
       "      <th>1222</th>\n",
       "      <td>有安</td>\n",
       "      <td>100159</td>\n",
       "      <td>10551</td>\n",
       "      <td>2948</td>\n",
       "      <td>157</td>\n",
       "      <td>[文学, 故人旧事, 故事, 日记]</td>\n",
       "      <td>说说</td>\n",
       "      <td>写完每一篇期间，想起来的话。有时候汇报下进度和瓶颈。</td>\n",
       "      <td>http://www.lianzai.me/planDetail/100159/10551....</td>\n",
       "    </tr>\n",
       "    <tr>\n",
       "      <th>2453</th>\n",
       "      <td>fistfistfits拳头拳头拳头</td>\n",
       "      <td>303162</td>\n",
       "      <td>17617</td>\n",
       "      <td>2915</td>\n",
       "      <td>356</td>\n",
       "      <td>[涂鸦, 乱七八糟, 手绘, 插画, #绘画#]</td>\n",
       "      <td>最紧要是开心</td>\n",
       "      <td>冲啊</td>\n",
       "      <td>http://www.lianzai.me/planDetail/303162/17617....</td>\n",
       "    </tr>\n",
       "    <tr>\n",
       "      <th>11492</th>\n",
       "      <td>灰尘子。</td>\n",
       "      <td>102867</td>\n",
       "      <td>12298</td>\n",
       "      <td>2914</td>\n",
       "      <td>233</td>\n",
       "      <td>[学习, 中考]</td>\n",
       "      <td>1000页数理化</td>\n",
       "      <td>这里记录着一个为了梦想向更美好的自己奔跑的初三学生。对于数理化的执念。谢谢你来看我。请认真读...</td>\n",
       "      <td>http://www.lianzai.me/planDetail/102867/12298....</td>\n",
       "    </tr>\n",
       "    <tr>\n",
       "      <th>8567</th>\n",
       "      <td>Louis</td>\n",
       "      <td>304762</td>\n",
       "      <td>20860</td>\n",
       "      <td>2901</td>\n",
       "      <td>414</td>\n",
       "      <td>[日记, 学习, 运动, 文字, 记录]</td>\n",
       "      <td>Step up！</td>\n",
       "      <td>去死撑那个最初的开始！</td>\n",
       "      <td>http://www.lianzai.me/planDetail/304762/20860....</td>\n",
       "    </tr>\n",
       "    <tr>\n",
       "      <th>1265</th>\n",
       "      <td>MONSTER-朵</td>\n",
       "      <td>305529</td>\n",
       "      <td>23276</td>\n",
       "      <td>2897</td>\n",
       "      <td>336</td>\n",
       "      <td>[插画, 你的照片我来画, 绘画]</td>\n",
       "      <td>你好 我是伪插画师—MONSTER-朵</td>\n",
       "      <td>你好 我是爱画画MONSTER-朵</td>\n",
       "      <td>http://www.lianzai.me/planDetail/305529/23276....</td>\n",
       "    </tr>\n",
       "    <tr>\n",
       "      <th>1957</th>\n",
       "      <td>MIUJIII</td>\n",
       "      <td>303313</td>\n",
       "      <td>17513</td>\n",
       "      <td>2891</td>\n",
       "      <td>422</td>\n",
       "      <td>[涂鸦, 插画]</td>\n",
       "      <td>日常绘</td>\n",
       "      <td>个人涂鸦</td>\n",
       "      <td>http://www.lianzai.me/planDetail/303313/17513....</td>\n",
       "    </tr>\n",
       "    <tr>\n",
       "      <th>8872</th>\n",
       "      <td>闻耳是青</td>\n",
       "      <td>103451</td>\n",
       "      <td>13286</td>\n",
       "      <td>2877</td>\n",
       "      <td>434</td>\n",
       "      <td>[手工, 绘画, 插画, 漫画, 记录]</td>\n",
       "      <td>在物质上作画</td>\n",
       "      <td>他们是画画的 我是画画的</td>\n",
       "      <td>http://www.lianzai.me/planDetail/103451/13286....</td>\n",
       "    </tr>\n",
       "    <tr>\n",
       "      <th>10896</th>\n",
       "      <td>哟呵呵呵呵</td>\n",
       "      <td>101767</td>\n",
       "      <td>11581</td>\n",
       "      <td>2862</td>\n",
       "      <td>225</td>\n",
       "      <td>[萌宠, 狗狗女儿, 铲屎官日常]</td>\n",
       "      <td>两个蠢孩子</td>\n",
       "      <td>气质哈士奇与混血小王子的无节操日常</td>\n",
       "      <td>http://www.lianzai.me/planDetail/101767/11581....</td>\n",
       "    </tr>\n",
       "    <tr>\n",
       "      <th>10488</th>\n",
       "      <td>瑜谦</td>\n",
       "      <td>306105</td>\n",
       "      <td>15906</td>\n",
       "      <td>2852</td>\n",
       "      <td>513</td>\n",
       "      <td>[你的照片我来画, 插画, 绘画, 手绘]</td>\n",
       "      <td>你的照片我来画</td>\n",
       "      <td>好有趣的样子.来么来么</td>\n",
       "      <td>http://www.lianzai.me/planDetail/306105/15906....</td>\n",
       "    </tr>\n",
       "    <tr>\n",
       "      <th>9092</th>\n",
       "      <td>姚鸡鸡</td>\n",
       "      <td>306275</td>\n",
       "      <td>15795</td>\n",
       "      <td>2842</td>\n",
       "      <td>385</td>\n",
       "      <td>[英雄联盟, 绘画, 像素画, 插画]</td>\n",
       "      <td>像素联盟</td>\n",
       "      <td>全是马赛克啦</td>\n",
       "      <td>http://www.lianzai.me/planDetail/306275/15795....</td>\n",
       "    </tr>\n",
       "    <tr>\n",
       "      <th>14469</th>\n",
       "      <td>孔南山</td>\n",
       "      <td>307619</td>\n",
       "      <td>19117</td>\n",
       "      <td>2838</td>\n",
       "      <td>548</td>\n",
       "      <td>[日记, 插画, 旅行, 学习, 摄影]</td>\n",
       "      <td>碧山计划</td>\n",
       "      <td>下乡！存活！计划！</td>\n",
       "      <td>http://www.lianzai.me/planDetail/307619/19117....</td>\n",
       "    </tr>\n",
       "    <tr>\n",
       "      <th>11893</th>\n",
       "      <td>十二宴</td>\n",
       "      <td>100678</td>\n",
       "      <td>22690</td>\n",
       "      <td>2791</td>\n",
       "      <td>509</td>\n",
       "      <td>[漫画]</td>\n",
       "      <td>与妖记</td>\n",
       "      <td>美少女半仙与妖怪的故事</td>\n",
       "      <td>http://www.lianzai.me/planDetail/100678/22690....</td>\n",
       "    </tr>\n",
       "  </tbody>\n",
       "</table>\n",
       "<p>100 rows × 9 columns</p>\n",
       "</div>"
      ],
      "text/plain": [
       "                 nickname        uid  planId    hot  witness  \\\n",
       "12144              轻想连载专题     100001   10017  23515     3254   \n",
       "9234                 狐狸同学     101101   13406  14788     2136   \n",
       "98                   狐狸同学     101101   15758  12979     1582   \n",
       "6961                切尸红人魔     307648   15797  12776     2159   \n",
       "2507                 狐狸同学     101101   28079  12074     1553   \n",
       "2456             shane-小菜     100000   10024  11688     2085   \n",
       "798              shane-小菜     100000   64794  11110     1363   \n",
       "142                   临暗式     303940   17094  10148      604   \n",
       "1669             shane-小菜     100000   10367   9475      129   \n",
       "1310                 山林食纪     104288   13800   8888      613   \n",
       "8038                 阿依达娜     277951   57641   8785      205   \n",
       "4725                 安吉叔叔     100177   10201   8230     1311   \n",
       "4745                   逆也     101083   11657   7995     1187   \n",
       "7825                   王佳     277956   57147   7758      191   \n",
       "2916               海牙Hiya     222222   10345   7186      858   \n",
       "2688            Zxiquan溪泉     101165   14550   7147      614   \n",
       "6245             alnic是阿茶     101046   11353   7011     1004   \n",
       "2912                   芜意     306402   15711   5869      846   \n",
       "1499               Oldlee     307358   15598   5765      693   \n",
       "4576                 妆成网红     275565   67200   5553      239   \n",
       "951              我其实真的很不错     300589   18814   5544       76   \n",
       "2435               Asaki桑     101405   10286   5376      513   \n",
       "850                 Jamie     104134   13502   5372      702   \n",
       "1654               huanxi     123456   14456   5367       75   \n",
       "11045                 钢铁墨     100066   14044   5320      738   \n",
       "6494                  林井西     308238   15295   5160     1102   \n",
       "8253                   草千     101243   11455   5046      864   \n",
       "11426            eeriness     102855   15037   4857      448   \n",
       "9124                  极昼士     305708   16156   4818      739   \n",
       "3165                 红糖馒头     307111   15697   4776      554   \n",
       "...                   ...        ...     ...    ...      ...   \n",
       "2204                   关山     305695   21375   3302      230   \n",
       "7493                  林井西     308238   14557   3275      648   \n",
       "1686               璇子_gyx     102248   11864   3239      297   \n",
       "10027                 朱阿便      23333   10129   3215      433   \n",
       "232                   易水癫     105048   17208   3214      128   \n",
       "4947                   兔丫     104939   16895   3170      425   \n",
       "3561            CC-Gordon     305023   16606   3147      475   \n",
       "12350            唐斯托toSto     305005   17781   3141      655   \n",
       "271                 糖葫芦爸。     100982   13501   3140       79   \n",
       "10744                  整整   19950323   10147   3136      393   \n",
       "8440            Nigel亲爱的人     104817   20504   3133      506   \n",
       "3587                   牙妖     102154   11801   3128      401   \n",
       "2491                   尹梵     102321   13249   3115      441   \n",
       "9214                  飞行猴     777777   10036   3032      483   \n",
       "780                    路奇     666666   10192   3016       64   \n",
       "2370              HangMeQ     305165   16472   2987      499   \n",
       "9971                  轻雾社  123456789   10462   2977      556   \n",
       "1351                  左一出     104484   15426   2967      461   \n",
       "1222                   有安     100159   10551   2948      157   \n",
       "2453   fistfistfits拳头拳头拳头     303162   17617   2915      356   \n",
       "11492                灰尘子。     102867   12298   2914      233   \n",
       "8567                Louis     304762   20860   2901      414   \n",
       "1265            MONSTER-朵     305529   23276   2897      336   \n",
       "1957              MIUJIII     303313   17513   2891      422   \n",
       "8872                 闻耳是青     103451   13286   2877      434   \n",
       "10896               哟呵呵呵呵     101767   11581   2862      225   \n",
       "10488                  瑜谦     306105   15906   2852      513   \n",
       "9092                  姚鸡鸡     306275   15795   2842      385   \n",
       "14469                 孔南山     307619   19117   2838      548   \n",
       "11893                 十二宴     100678   22690   2791      509   \n",
       "\n",
       "                                 tags                           title  \\\n",
       "12144       [你的照片我来画, 绘画, 插画, 手绘, 水彩]                      官方|你的照片我来画   \n",
       "9234                [你的照片我来画, 插画, 绘画]                         你的照片我来画   \n",
       "98                    [漫画, 废柴狐阿桔, 阿桔]                         狐阿桔-福利贴   \n",
       "6961            [绘画, 插画, 涂鸦, 你的照片我来画]                            切氏画像   \n",
       "2507                             [漫画]                           废柴狐阿桔   \n",
       "2456             [色彩, 插画, 教程, 原画, 漫画]                          小菜绘画问答   \n",
       "798        [每日一图, 人体练习, 人体训练100天, 涂鸦]              100天1000个人体3000个见证   \n",
       "142              [脑洞, 漫画, 绘画, 插画, 原创]                            杂物幻想   \n",
       "1669                 [生活, 晚安, 日记, 情感]                            晚安日记   \n",
       "1310                     [摄影, 静物, 美食]                            山林食纪   \n",
       "8038                           [新星瞩目]                            新星瞩目   \n",
       "4725   [绘画, 摄影, 穿搭, 我拍照片我来画, 你的照片我来画]                         我拍照片我来画   \n",
       "4745                     [绘画, 插画, 手绘]                             画画！   \n",
       "7825                           [新星瞩目]                            新星瞩目   \n",
       "2916                 [生活, 留学, 摄影, 插画]  Learn Illustration in UK 英国学插画   \n",
       "2688            [你的照片我来画, 绘画, 手绘, 水彩]                         你的照片我来画   \n",
       "6245        [绘画, 你的照片我来画, 手绘, 插画, 画像]                         你的照片我来画   \n",
       "2912           [每日一涂, 插画, 涂鸦, 原创, 日记]                            每日一涂   \n",
       "1499        [绘画, 插画, 你的照片我来画, 妹子, 日系]                         你的照片我来画   \n",
       "4576                            [演说家]                            妆成网红   \n",
       "951                          [生活, 记录]                            不动声色   \n",
       "2435                         [插画, 推荐]                  我喜欢的画师是男是女是基是腐   \n",
       "850                  [绘画, 脑洞, 漫画, 原创]                       Jamie脑洞漫画   \n",
       "1654      [生活, 观点, 今天怎么不开心, 今天怎么又开心了]                     你看，这是非客观的我！   \n",
       "11045       [插画, 涂鸦, 生活, 日常, 你的照片我来画]                        我也来画照片~嘿   \n",
       "6494        [你的照片我来画, 少女, 绘画, 插画, 涂鸦]                         你的照片我来画   \n",
       "8253             [绘画自拍, 时尚达人, 穿搭, 插画]                             我和画   \n",
       "11426    [互动连载, 你的照片我来画, 手绘, 画照片, 绘画]                         你的照片我来画   \n",
       "9124                 [绘画, 插画, 手绘, 水彩]                              水彩   \n",
       "3165                [你的照片我来画, 日常, 绘画]                               。   \n",
       "...                               ...                             ...   \n",
       "2204                 [原创, 漫画, 绘画, 插画]                           關山的花園   \n",
       "7493                     [插画, 涂鸦, 绘画]                              秘密   \n",
       "1686         [青春, 生活自拍, 时尚达人, 日记, 学习]                         小璇子的手帐本   \n",
       "10027                  [摄影, 人物生活, 美女]                        100个关节线条   \n",
       "232                      [手工, 嵌银, 制刀]                       手工的温度——嵌银   \n",
       "4947            [学习, 日记, 橡皮章, 手作, 文具]                               章   \n",
       "3561                   [插画, 摄影少女, 绘画]                        女票是第一生产力   \n",
       "12350                    [插画, 水彩, 漫画]                         唐斯托鬼混日记   \n",
       "271                          [文学, 分享]                          ONE_一个   \n",
       "10744               [手作, 橡皮章, 手工, 定制]                            印章盒子   \n",
       "8440             [日记, 植物, 美食, 爱情, 插画]                      “和蔬菜水果谈恋爱”   \n",
       "3587                     [绘画, 插画, 手绘]                         日常涂鸦练习-   \n",
       "2491                 [日记, 收集, 学习, 摄影]                            认真生活   \n",
       "9214           [绘画, 手绘, 插画, 色彩, 每日一涂]                            每日一图   \n",
       "780                [日杂, 有趣, 生活杂记, 日记]                          生活碎片点滴   \n",
       "2370      [旅行, 绘画, 手作, 插画, #你的照片我来画#]                        要不画会儿画吧？   \n",
       "9971                         [插画, 漫画]                         轻雾社成员作品   \n",
       "1351        [你的照片我来画, 绘画, 手绘, 日常, 学习]                         你的照片我来画   \n",
       "1222               [文学, 故人旧事, 故事, 日记]                              说说   \n",
       "2453         [涂鸦, 乱七八糟, 手绘, 插画, #绘画#]                          最紧要是开心   \n",
       "11492                        [学习, 中考]                        1000页数理化   \n",
       "8567             [日记, 学习, 运动, 文字, 记录]                        Step up！   \n",
       "1265                [插画, 你的照片我来画, 绘画]             你好 我是伪插画师—MONSTER-朵   \n",
       "1957                         [涂鸦, 插画]                             日常绘   \n",
       "8872             [手工, 绘画, 插画, 漫画, 记录]                          在物质上作画   \n",
       "10896               [萌宠, 狗狗女儿, 铲屎官日常]                           两个蠢孩子   \n",
       "10488           [你的照片我来画, 插画, 绘画, 手绘]                         你的照片我来画   \n",
       "9092              [英雄联盟, 绘画, 像素画, 插画]                            像素联盟   \n",
       "14469            [日记, 插画, 旅行, 学习, 摄影]                            碧山计划   \n",
       "11893                            [漫画]                             与妖记   \n",
       "\n",
       "                                             description  \\\n",
       "12144                下载最新版本“轻想连载”APP专题入口，可以进入免费投稿画照片通道哟。   \n",
       "9234                                       可爱的妹子or男孩子太多辣   \n",
       "98                                             一只废柴狐狸的日常   \n",
       "6961                                有偿约稿请联系小编企鹅782155693   \n",
       "2507   漫画：狐狸\\n编剧&主编：shane-小菜 程御迦\\n上色：阿柴\\n协力：苏小五\\n制作：轻...   \n",
       "2456                                               一起学画画   \n",
       "798    目标是每天10个人体，100天后画漫画，给我1000个见证监督，学习资料下载http://p...   \n",
       "142                                日常脑洞 推荐微博主：@tango2010   \n",
       "1669                                      想好好写日记（封面by阿梗）   \n",
       "1310                                          曲径通幽，山林食纪。   \n",
       "8038                                 小伙伴们来点赞啦 我在这儿等你好久了呢   \n",
       "4725                                            配色好方法=v=   \n",
       "4745                                                工事中！   \n",
       "7825                          噫，不知道怎么说才是坠吼滴。旁友们请见证这个连载！！   \n",
       "2916   The journal of studying illustration in UK (li...   \n",
       "2688                                 约稿，工作请加微信：506488783   \n",
       "6245                                        我会尽力画好每一张照片！   \n",
       "2912   如果每天有一张，一个月就有30张，一年就有365张。这是与懒癌的斗争。不管有没有完成度，至少...   \n",
       "1499                                              给你们的画~   \n",
       "4576                             在这个连载，你可以记录你生活有意思的点点滴滴。   \n",
       "951                 每天都有好多话想讲 却没有可以认真听你说话的人 记录成了拯救生活的事 。   \n",
       "2435                                           向崇拜的大神们致敬   \n",
       "850                               欢迎关注微博Jamie漫想，观看第一手更新。   \n",
       "1654                     坦率地讲，我说的话十有八九是非客观的，并且我还试图让你接受它。   \n",
       "11045                                               童话世界   \n",
       "6494           有偿约稿q：623119116 按照自己的想法画，不会画的和照片一模一样。介意慎约   \n",
       "8253                        画自己想画的画，穿自己想穿的衣服，做一个像自己画一样的人   \n",
       "11426         谢各位厚爱，私信我画照片是有偿的，投稿请去翻牌墙。\\n\\n微博：@eeriness哟   \n",
       "9124                                               水彩类堆积   \n",
       "3165                                                   ，   \n",
       "...                                                  ...   \n",
       "2204                                                明明如月   \n",
       "7493                                     有时候想画画，有时候不想画画。   \n",
       "1686                                璇子_gyx(我的微博名！)的日常手帐本   \n",
       "10027                                        分明的关节很性感不是吗   \n",
       "232      延续一个古老的工艺，传统手法，使用过盈嵌法，不用一滴胶水。\\n把视觉传达中的知识运用到嵌银中去   \n",
       "4947                         释放压力，千奇百怪，你别奇怪。 从此一把小黄走天下 。   \n",
       "3561   今天有个同事问我：“你的业余时间的80%是不是都在给你女朋友拍照？”我说：“当然不是了，我还...   \n",
       "12350                                               生活日常   \n",
       "271                                               不要矫情好！   \n",
       "10744                                          (*/ w*)……   \n",
       "8440                                          谈一场纯纯的恋爱吧！   \n",
       "3587                                  I'm still learning   \n",
       "2491   目标有很多，就不一一赘述了。总之不管打算做什么事、怎么做，归根结底都要保持一个认真生活的态度...   \n",
       "9214                                           坚持每日更新一张图   \n",
       "780                       生活小记录，一些有趣的人和事，偶尔刨个坑、种点菜，欢迎品尝~   \n",
       "2370                                           一切都是最好的安排   \n",
       "9971                                       轻雾社28名成员的作品合集   \n",
       "1351                                    加油画满一百！吃土画师求约稿()   \n",
       "1222                          写完每一篇期间，想起来的话。有时候汇报下进度和瓶颈。   \n",
       "2453                                                  冲啊   \n",
       "11492  这里记录着一个为了梦想向更美好的自己奔跑的初三学生。对于数理化的执念。谢谢你来看我。请认真读...   \n",
       "8567                                         去死撑那个最初的开始！   \n",
       "1265                                   你好 我是爱画画MONSTER-朵   \n",
       "1957                                                个人涂鸦   \n",
       "8872                                        他们是画画的 我是画画的   \n",
       "10896                                  气质哈士奇与混血小王子的无节操日常   \n",
       "10488                                        好有趣的样子.来么来么   \n",
       "9092                                              全是马赛克啦   \n",
       "14469                                          下乡！存活！计划！   \n",
       "11893                                        美少女半仙与妖怪的故事   \n",
       "\n",
       "                                                     url  \n",
       "12144  http://www.lianzai.me/planDetail/100001/10017....  \n",
       "9234   http://www.lianzai.me/planDetail/101101/13406....  \n",
       "98     http://www.lianzai.me/planDetail/101101/15758....  \n",
       "6961   http://www.lianzai.me/planDetail/307648/15797....  \n",
       "2507   http://www.lianzai.me/planDetail/101101/28079....  \n",
       "2456   http://www.lianzai.me/planDetail/100000/10024....  \n",
       "798    http://www.lianzai.me/planDetail/100000/64794....  \n",
       "142    http://www.lianzai.me/planDetail/303940/17094....  \n",
       "1669   http://www.lianzai.me/planDetail/100000/10367....  \n",
       "1310   http://www.lianzai.me/planDetail/104288/13800....  \n",
       "8038   http://www.lianzai.me/planDetail/277951/57641....  \n",
       "4725   http://www.lianzai.me/planDetail/100177/10201....  \n",
       "4745   http://www.lianzai.me/planDetail/101083/11657....  \n",
       "7825   http://www.lianzai.me/planDetail/277956/57147....  \n",
       "2916   http://www.lianzai.me/planDetail/222222/10345....  \n",
       "2688   http://www.lianzai.me/planDetail/101165/14550....  \n",
       "6245   http://www.lianzai.me/planDetail/101046/11353....  \n",
       "2912   http://www.lianzai.me/planDetail/306402/15711....  \n",
       "1499   http://www.lianzai.me/planDetail/307358/15598....  \n",
       "4576   http://www.lianzai.me/planDetail/275565/67200....  \n",
       "951    http://www.lianzai.me/planDetail/300589/18814....  \n",
       "2435   http://www.lianzai.me/planDetail/101405/10286....  \n",
       "850    http://www.lianzai.me/planDetail/104134/13502....  \n",
       "1654   http://www.lianzai.me/planDetail/123456/14456....  \n",
       "11045  http://www.lianzai.me/planDetail/100066/14044....  \n",
       "6494   http://www.lianzai.me/planDetail/308238/15295....  \n",
       "8253   http://www.lianzai.me/planDetail/101243/11455....  \n",
       "11426  http://www.lianzai.me/planDetail/102855/15037....  \n",
       "9124   http://www.lianzai.me/planDetail/305708/16156....  \n",
       "3165   http://www.lianzai.me/planDetail/307111/15697....  \n",
       "...                                                  ...  \n",
       "2204   http://www.lianzai.me/planDetail/305695/21375....  \n",
       "7493   http://www.lianzai.me/planDetail/308238/14557....  \n",
       "1686   http://www.lianzai.me/planDetail/102248/11864....  \n",
       "10027  http://www.lianzai.me/planDetail/23333/10129.h...  \n",
       "232    http://www.lianzai.me/planDetail/105048/17208....  \n",
       "4947   http://www.lianzai.me/planDetail/104939/16895....  \n",
       "3561   http://www.lianzai.me/planDetail/305023/16606....  \n",
       "12350  http://www.lianzai.me/planDetail/305005/17781....  \n",
       "271    http://www.lianzai.me/planDetail/100982/13501....  \n",
       "10744  http://www.lianzai.me/planDetail/19950323/1014...  \n",
       "8440   http://www.lianzai.me/planDetail/104817/20504....  \n",
       "3587   http://www.lianzai.me/planDetail/102154/11801....  \n",
       "2491   http://www.lianzai.me/planDetail/102321/13249....  \n",
       "9214   http://www.lianzai.me/planDetail/777777/10036....  \n",
       "780    http://www.lianzai.me/planDetail/666666/10192....  \n",
       "2370   http://www.lianzai.me/planDetail/305165/16472....  \n",
       "9971   http://www.lianzai.me/planDetail/123456789/104...  \n",
       "1351   http://www.lianzai.me/planDetail/104484/15426....  \n",
       "1222   http://www.lianzai.me/planDetail/100159/10551....  \n",
       "2453   http://www.lianzai.me/planDetail/303162/17617....  \n",
       "11492  http://www.lianzai.me/planDetail/102867/12298....  \n",
       "8567   http://www.lianzai.me/planDetail/304762/20860....  \n",
       "1265   http://www.lianzai.me/planDetail/305529/23276....  \n",
       "1957   http://www.lianzai.me/planDetail/303313/17513....  \n",
       "8872   http://www.lianzai.me/planDetail/103451/13286....  \n",
       "10896  http://www.lianzai.me/planDetail/101767/11581....  \n",
       "10488  http://www.lianzai.me/planDetail/306105/15906....  \n",
       "9092   http://www.lianzai.me/planDetail/306275/15795....  \n",
       "14469  http://www.lianzai.me/planDetail/307619/19117....  \n",
       "11893  http://www.lianzai.me/planDetail/100678/22690....  \n",
       "\n",
       "[100 rows x 9 columns]"
      ]
     },
     "execution_count": 14,
     "metadata": {},
     "output_type": "execute_result"
    }
   ],
   "source": [
    "hundred #前100活跃连载主题（tags）基本是绘画主题。因为其几个创始人在美术漫画领域影响力较大，个别身份也是插画师、漫画家。"
   ]
  },
  {
   "cell_type": "code",
   "execution_count": 15,
   "metadata": {
    "collapsed": false
   },
   "outputs": [
    {
     "data": {
      "text/plain": [
       "<matplotlib.axes._subplots.AxesSubplot at 0x1176dc940>"
      ]
     },
     "execution_count": 15,
     "metadata": {},
     "output_type": "execute_result"
    },
    {
     "data": {
      "image/png": "[encoded data removed]",
      "text/plain": [
       "<matplotlib.figure.Figure at 0x1176dcf98>"
      ]
     },
     "metadata": {},
     "output_type": "display_data"
    }
   ],
   "source": [
    "hot.hot.hist(bins=10,range=(0,200))"
   ]
  },
  {
   "cell_type": "code",
   "execution_count": 16,
   "metadata": {
    "collapsed": false
   },
   "outputs": [
    {
     "data": {
      "text/plain": [
       "<matplotlib.axes._subplots.AxesSubplot at 0x1176e4198>"
      ]
     },
     "execution_count": 16,
     "metadata": {},
     "output_type": "execute_result"
    },
    {
     "data": {
      "image/png": "[encoded data removed]",
      "text/plain": [
       "<matplotlib.figure.Figure at 0x1176f1dd8>"
      ]
     },
     "metadata": {},
     "output_type": "display_data"
    }
   ],
   "source": [
    "hot.plot(kind='scatter',\n",
    "         x='hot',\n",
    "         y='witness',\n",
    "         )  "
   ]
  },
  {
   "cell_type": "markdown",
   "metadata": {},
   "source": [
    "根据上图情况，缩放尺度，观察密集部分："
   ]
  },
  {
   "cell_type": "code",
   "execution_count": 17,
   "metadata": {
    "collapsed": false
   },
   "outputs": [
    {
     "data": {
      "text/plain": [
       "<matplotlib.axes._subplots.AxesSubplot at 0x1176dc7f0>"
      ]
     },
     "execution_count": 17,
     "metadata": {},
     "output_type": "execute_result"
    },
    {
     "data": {
      "image/png": "[encoded data removed]",
      "text/plain": [
       "<matplotlib.figure.Figure at 0x117921240>"
      ]
     },
     "metadata": {},
     "output_type": "display_data"
    }
   ],
   "source": [
    "hot.plot(kind='scatter',\n",
    "         x='hot',\n",
    "         y = 'witness',\n",
    "         xlim=(0,6000),\n",
    "         ylim=(0,1500),\n",
    "        figsize=(8,8))"
   ]
  },
  {
   "cell_type": "markdown",
   "metadata": {},
   "source": [
    "再缩放："
   ]
  },
  {
   "cell_type": "code",
   "execution_count": 26,
   "metadata": {
    "collapsed": false
   },
   "outputs": [
    {
     "data": {
      "text/plain": [
       "<matplotlib.axes._subplots.AxesSubplot at 0x11925a2b0>"
      ]
     },
     "execution_count": 26,
     "metadata": {},
     "output_type": "execute_result"
    },
    {
     "data": {
      "image/png": "[encoded data removed]",
      "text/plain": [
       "<matplotlib.figure.Figure at 0x1192509e8>"
      ]
     },
     "metadata": {},
     "output_type": "display_data"
    }
   ],
   "source": [
    "hot.plot(kind='scatter',\n",
    "         x='hot',\n",
    "         y='witness',\n",
    "         xlim=(-10,1000),\n",
    "         ylim=(-10,200),\n",
    "         figsize=(10,10))"
   ]
  },
  {
   "cell_type": "code",
   "execution_count": 19,
   "metadata": {
    "collapsed": false
   },
   "outputs": [
    {
     "data": {
      "text/plain": [
       "<matplotlib.axes._subplots.AxesSubplot at 0x11910ad30>"
      ]
     },
     "execution_count": 19,
     "metadata": {},
     "output_type": "execute_result"
    },
    {
     "data": {
      "image/png": "[encoded data removed]",
      "text/plain": [
       "<matplotlib.figure.Figure at 0x118fe9c18>"
      ]
     },
     "metadata": {},
     "output_type": "display_data"
    }
   ],
   "source": [
    "#继续\n",
    "hot.plot(kind='scatter',\n",
    "         x='hot',\n",
    "         y='witness',\n",
    "         xlim=(-2,400),\n",
    "         ylim=(-2,50),\n",
    "         figsize=(8,8))"
   ]
  },
  {
   "cell_type": "code",
   "execution_count": 27,
   "metadata": {
    "collapsed": false
   },
   "outputs": [
    {
     "data": {
      "text/plain": [
       "<matplotlib.axes._subplots.AxesSubplot at 0x11929fda0>"
      ]
     },
     "execution_count": 27,
     "metadata": {},
     "output_type": "execute_result"
    },
    {
     "data": {
      "image/png": "[encoded data removed]",
      "text/plain": [
       "<matplotlib.figure.Figure at 0x11921f208>"
      ]
     },
     "metadata": {},
     "output_type": "display_data"
    }
   ],
   "source": [
    "hot.plot(kind='scatter',\n",
    "         x='hot',\n",
    "         y='witness',\n",
    "         xlim=(-2,200),\n",
    "         ylim=(-2,50),\n",
    "         figsize=(10,10))"
   ]
  },
  {
   "cell_type": "markdown",
   "metadata": {},
   "source": [
    "可以看出区域（热度 <=150，见证人数 <= 20）的连载最多，颜色最深（点重叠得最多）。具体数据："
   ]
  },
  {
   "cell_type": "code",
   "execution_count": 28,
   "metadata": {
    "collapsed": false
   },
   "outputs": [],
   "source": [
    "cold=hot[(hot.hot<=150) &(hot.witness <=20)]  # 多条件筛选中间用and会报错，得用&或|"
   ]
  },
  {
   "cell_type": "code",
   "execution_count": 29,
   "metadata": {
    "collapsed": false
   },
   "outputs": [
    {
     "name": "stdout",
     "output_type": "stream",
     "text": [
      "非活跃连载数： 12342\n",
      "非活跃用户数： 6907\n",
      "确定活跃用户数： 493\n"
     ]
    }
   ],
   "source": [
    "print('非活跃连载数：',cold.shape[0])          # 热度≤150且见证人数≤20的连载有12342 个，占12342/15038 = 82.07%；\n",
    "unknown_users=cold.uid.unique().shape[0]\n",
    "\n",
    "print('非活跃用户数：',unknown_users)  #不能推出“不活跃用户有82.07%”。\n",
    "                                    #有可能一个人创建了多个连载，活跃度也就分散在多个连载上，使得没有一个连载有高热度和高见证；\n",
    "                                    # 也有可能连载设置为”仅自己可见“，数据没采集进来\n",
    "active=7400-unknown_users\n",
    "print('确定活跃用户数：',active)    #但可以充分肯定的是：活跃（热度>150,见证>20）的连载数在3000左右，约占18%。"
   ]
  },
  {
   "cell_type": "code",
   "execution_count": 30,
   "metadata": {
    "collapsed": false
   },
   "outputs": [
    {
     "data": {
      "text/plain": [
       "(12357, 9)"
      ]
     },
     "execution_count": 30,
     "metadata": {},
     "output_type": "execute_result"
    }
   ],
   "source": [
    "hot[hot.hot<=150].shape \n",
    "#热度<=150的连载（后来热度的一个计算方式是：发1条动态热度加2）有12357个，占总体82.17%。会发现热度和见证数对活跃度的衡量基本是一致的。"
   ]
  },
  {
   "cell_type": "code",
   "execution_count": 142,
   "metadata": {
    "collapsed": false
   },
   "outputs": [],
   "source": [
    "#hot.hot.value_counts()  # 热度为2（即只发了1条状态）的连载有1344"
   ]
  },
  {
   "cell_type": "code",
   "execution_count": null,
   "metadata": {
    "collapsed": true
   },
   "outputs": [],
   "source": []
  },
  {
   "cell_type": "code",
   "execution_count": null,
   "metadata": {
    "collapsed": true
   },
   "outputs": [],
   "source": []
  },
  {
   "cell_type": "code",
   "execution_count": null,
   "metadata": {
    "collapsed": true
   },
   "outputs": [],
   "source": []
  },
  {
   "cell_type": "markdown",
   "metadata": {},
   "source": [
    "## 从【参与见证他人连载的用户】分析不活跃用户量（不一定自己发连载，只看不写）"
   ]
  },
  {
   "cell_type": "code",
   "execution_count": 31,
   "metadata": {
    "collapsed": true
   },
   "outputs": [],
   "source": [
    "from qx_details import witness"
   ]
  },
  {
   "cell_type": "code",
   "execution_count": 32,
   "metadata": {
    "collapsed": false
   },
   "outputs": [],
   "source": [
    "w=list(witness.find({},{'results':1})) "
   ]
  },
  {
   "cell_type": "code",
   "execution_count": 33,
   "metadata": {
    "collapsed": true
   },
   "outputs": [],
   "source": [
    "w=pd.DataFrame(w)"
   ]
  },
  {
   "cell_type": "code",
   "execution_count": 34,
   "metadata": {
    "collapsed": false
   },
   "outputs": [],
   "source": [
    "w=pd.DataFrame(w.results.sum()) #解放嵌套列表"
   ]
  },
  {
   "cell_type": "code",
   "execution_count": 35,
   "metadata": {
    "collapsed": false
   },
   "outputs": [
    {
     "data": {
      "text/plain": [
       "16143"
      ]
     },
     "execution_count": 35,
     "metadata": {},
     "output_type": "execute_result"
    }
   ],
   "source": [
    "len(w.witnessUid.unique()) #（参与见证的未重复的）总用户数约有16143人 ；每个连载网站最多只显示50个见证人信息，因此实际用户可能更多。\n",
    "                            # 但目标是“活跃”的连载、活跃的见证人。被见证>50，则连载必然是活跃的；\n",
    "                            # 可以分析用户参与了多少，参与得越多越活跃。"
   ]
  },
  {
   "cell_type": "markdown",
   "metadata": {},
   "source": [
    "### 一个用户见证了多少连载:"
   ]
  },
  {
   "cell_type": "code",
   "execution_count": 36,
   "metadata": {
    "collapsed": false
   },
   "outputs": [
    {
     "data": {
      "text/plain": [
       "300614      1182\n",
       "100000      1107\n",
       "61760808     920\n",
       "1234567      496\n",
       "23333        470\n",
       "300589       467\n",
       "100134       461\n",
       "303738       455\n",
       "1008611      427\n",
       "306251       412\n",
       "102843       411\n",
       "309405       410\n",
       "301190       390\n",
       "279496       377\n",
       "305411       376\n",
       "297761       330\n",
       "293424       322\n",
       "666666       313\n",
       "101233       312\n",
       "307785       290\n",
       "128820       290\n",
       "100372       283\n",
       "303452       276\n",
       "282081       262\n",
       "104939       250\n",
       "123456       250\n",
       "304904       247\n",
       "298205       246\n",
       "300216       237\n",
       "282838       235\n",
       "            ... \n",
       "197704         1\n",
       "281915         1\n",
       "289893         1\n",
       "279866         1\n",
       "291942         1\n",
       "297153         1\n",
       "283542         1\n",
       "300512         1\n",
       "281633         1\n",
       "301059         1\n",
       "308900         1\n",
       "300704         1\n",
       "290690         1\n",
       "284549         1\n",
       "289829         1\n",
       "280455         1\n",
       "274314         1\n",
       "286329         1\n",
       "103406         1\n",
       "282171         1\n",
       "275418         1\n",
       "286660         1\n",
       "281557         1\n",
       "280519         1\n",
       "308170         1\n",
       "278005         1\n",
       "309209         1\n",
       "275502         1\n",
       "306663         1\n",
       "281002         1\n",
       "Name: witnessUid, dtype: int64"
      ]
     },
     "execution_count": 36,
     "metadata": {},
     "output_type": "execute_result"
    }
   ],
   "source": [
    "w.witnessUid.value_counts() #参与见证最多的用户统计:\n",
    "                            #id（轻想号）为300614的用户，参与见证了至少1182个连载（因为只记录了活跃的连载，不活跃的连载未统计进来）\n",
    "                            # 一些特别的轻想号，如100000、1234567是公司内部人员"
   ]
  },
  {
   "cell_type": "code",
   "execution_count": 37,
   "metadata": {
    "collapsed": false
   },
   "outputs": [],
   "source": [
    "user=w[['nickName','witnessUid']]"
   ]
  },
  {
   "cell_type": "code",
   "execution_count": 38,
   "metadata": {
    "collapsed": false
   },
   "outputs": [],
   "source": [
    "user=user.drop_duplicates()"
   ]
  },
  {
   "cell_type": "code",
   "execution_count": 39,
   "metadata": {
    "collapsed": false
   },
   "outputs": [],
   "source": [
    "user=user.set_index('witnessUid')"
   ]
  },
  {
   "cell_type": "code",
   "execution_count": 40,
   "metadata": {
    "collapsed": false
   },
   "outputs": [],
   "source": [
    "user=user.reindex(w.witnessUid.value_counts().index)"
   ]
  },
  {
   "cell_type": "code",
   "execution_count": 41,
   "metadata": {
    "collapsed": false
   },
   "outputs": [],
   "source": [
    "user['见证连载数']=w.witnessUid.value_counts().values"
   ]
  },
  {
   "cell_type": "code",
   "execution_count": 42,
   "metadata": {
    "collapsed": false
   },
   "outputs": [
    {
     "data": {
      "text/html": [
       "<div>\n",
       "<table border=\"1\" class=\"dataframe\">\n",
       "  <thead>\n",
       "    <tr style=\"text-align: right;\">\n",
       "      <th></th>\n",
       "      <th>nickName</th>\n",
       "      <th>见证连载数</th>\n",
       "    </tr>\n",
       "  </thead>\n",
       "  <tbody>\n",
       "    <tr>\n",
       "      <th>300614</th>\n",
       "      <td>自渡</td>\n",
       "      <td>1182</td>\n",
       "    </tr>\n",
       "    <tr>\n",
       "      <th>100000</th>\n",
       "      <td>shane-小菜</td>\n",
       "      <td>1107</td>\n",
       "    </tr>\n",
       "    <tr>\n",
       "      <th>61760808</th>\n",
       "      <td>不成shou_</td>\n",
       "      <td>920</td>\n",
       "    </tr>\n",
       "    <tr>\n",
       "      <th>1234567</th>\n",
       "      <td>彼女</td>\n",
       "      <td>496</td>\n",
       "    </tr>\n",
       "    <tr>\n",
       "      <th>23333</th>\n",
       "      <td>朱阿便</td>\n",
       "      <td>470</td>\n",
       "    </tr>\n",
       "    <tr>\n",
       "      <th>300589</th>\n",
       "      <td>我其实真的很不错</td>\n",
       "      <td>467</td>\n",
       "    </tr>\n",
       "    <tr>\n",
       "      <th>100134</th>\n",
       "      <td>一只阿布</td>\n",
       "      <td>461</td>\n",
       "    </tr>\n",
       "    <tr>\n",
       "      <th>303738</th>\n",
       "      <td>浅川Hokusai</td>\n",
       "      <td>455</td>\n",
       "    </tr>\n",
       "    <tr>\n",
       "      <th>1008611</th>\n",
       "      <td>猴子勤劳的逗比</td>\n",
       "      <td>427</td>\n",
       "    </tr>\n",
       "    <tr>\n",
       "      <th>306251</th>\n",
       "      <td>李软咩咩咩咩咩</td>\n",
       "      <td>412</td>\n",
       "    </tr>\n",
       "    <tr>\n",
       "      <th>102843</th>\n",
       "      <td>.Shan..</td>\n",
       "      <td>411</td>\n",
       "    </tr>\n",
       "    <tr>\n",
       "      <th>309405</th>\n",
       "      <td>叁一</td>\n",
       "      <td>410</td>\n",
       "    </tr>\n",
       "    <tr>\n",
       "      <th>301190</th>\n",
       "      <td>SUEPOMAN</td>\n",
       "      <td>390</td>\n",
       "    </tr>\n",
       "    <tr>\n",
       "      <th>279496</th>\n",
       "      <td>梨子手工娃衣</td>\n",
       "      <td>377</td>\n",
       "    </tr>\n",
       "    <tr>\n",
       "      <th>305411</th>\n",
       "      <td>咩</td>\n",
       "      <td>376</td>\n",
       "    </tr>\n",
       "    <tr>\n",
       "      <th>297761</th>\n",
       "      <td>懒森</td>\n",
       "      <td>330</td>\n",
       "    </tr>\n",
       "    <tr>\n",
       "      <th>293424</th>\n",
       "      <td>鹿过燎原</td>\n",
       "      <td>322</td>\n",
       "    </tr>\n",
       "    <tr>\n",
       "      <th>666666</th>\n",
       "      <td>路奇</td>\n",
       "      <td>313</td>\n",
       "    </tr>\n",
       "    <tr>\n",
       "      <th>101233</th>\n",
       "      <td>热血阿树</td>\n",
       "      <td>312</td>\n",
       "    </tr>\n",
       "    <tr>\n",
       "      <th>307785</th>\n",
       "      <td>CHEESER</td>\n",
       "      <td>290</td>\n",
       "    </tr>\n",
       "  </tbody>\n",
       "</table>\n",
       "</div>"
      ],
      "text/plain": [
       "           nickName  见证连载数\n",
       "300614           自渡   1182\n",
       "100000     shane-小菜   1107\n",
       "61760808    不成shou_    920\n",
       "1234567          彼女    496\n",
       "23333           朱阿便    470\n",
       "300589     我其实真的很不错    467\n",
       "100134         一只阿布    461\n",
       "303738    浅川Hokusai    455\n",
       "1008611     猴子勤劳的逗比    427\n",
       "306251      李软咩咩咩咩咩    412\n",
       "102843      .Shan..    411\n",
       "309405           叁一    410\n",
       "301190     SUEPOMAN    390\n",
       "279496       梨子手工娃衣    377\n",
       "305411            咩    376\n",
       "297761           懒森    330\n",
       "293424         鹿过燎原    322\n",
       "666666           路奇    313\n",
       "101233         热血阿树    312\n",
       "307785      CHEESER    290"
      ]
     },
     "execution_count": 42,
     "metadata": {},
     "output_type": "execute_result"
    }
   ],
   "source": [
    "user.head(20)"
   ]
  },
  {
   "cell_type": "markdown",
   "metadata": {},
   "source": [
    "很难推测出活跃用户有多少，但见证连载数量少的用户，很大可能不活跃。即参与见证少≈不活跃："
   ]
  },
  {
   "cell_type": "code",
   "execution_count": 43,
   "metadata": {
    "collapsed": false,
    "scrolled": true
   },
   "outputs": [
    {
     "data": {
      "text/plain": [
       "<matplotlib.axes._subplots.AxesSubplot at 0x12db428d0>"
      ]
     },
     "execution_count": 43,
     "metadata": {},
     "output_type": "execute_result"
    },
    {
     "data": {
      "image/png": "[encoded data removed]",
      "text/plain": [
       "<matplotlib.figure.Figure at 0x12db42d30>"
      ]
     },
     "metadata": {},
     "output_type": "display_data"
    }
   ],
   "source": [
    "user['见证连载数'].hist(bins=50,range=(0,30))"
   ]
  },
  {
   "cell_type": "code",
   "execution_count": 44,
   "metadata": {
    "collapsed": false
   },
   "outputs": [
    {
     "data": {
      "text/plain": [
       "1       5636\n",
       "2       2529\n",
       "3       1748\n",
       "4       1552\n",
       "5       1476\n",
       "6       1203\n",
       "7        353\n",
       "8        205\n",
       "9        191\n",
       "10       151\n",
       "11       101\n",
       "13        77\n",
       "12        74\n",
       "14        62\n",
       "15        58\n",
       "16        50\n",
       "18        43\n",
       "21        36\n",
       "20        34\n",
       "17        32\n",
       "19        27\n",
       "24        21\n",
       "23        21\n",
       "25        21\n",
       "26        20\n",
       "34        19\n",
       "30        19\n",
       "29        18\n",
       "33        15\n",
       "27        15\n",
       "        ... \n",
       "87         1\n",
       "103        1\n",
       "199        1\n",
       "215        1\n",
       "125        1\n",
       "117        1\n",
       "109        1\n",
       "85         1\n",
       "410        1\n",
       "51         1\n",
       "83         1\n",
       "91         1\n",
       "115        1\n",
       "139        1\n",
       "155        1\n",
       "163        1\n",
       "235        1\n",
       "283        1\n",
       "411        1\n",
       "427        1\n",
       "247        1\n",
       "1107       1\n",
       "84         1\n",
       "92         1\n",
       "116        1\n",
       "276        1\n",
       "412        1\n",
       "69         1\n",
       "77         1\n",
       "467        1\n",
       "Name: 见证连载数, dtype: int64"
      ]
     },
     "execution_count": 44,
     "metadata": {},
     "output_type": "execute_result"
    }
   ],
   "source": [
    "user['见证连载数'].value_counts() #/16143 ：5637人,占比34.91%，只见证了1个连载；2531人"
   ]
  },
  {
   "cell_type": "markdown",
   "metadata": {
    "collapsed": true
   },
   "source": [
    "# 结论：\n",
    "* 用户样本量为7400中，约6.7%的用户活跃；\n",
    "* 用户样本量16143中，约34.91%的用户不活跃。\n",
    "* 待假设检验:总体中18%用户活跃，34.91%用户不活跃。\n",
    "* to be continued..."
   ]
  },
  {
   "cell_type": "code",
   "execution_count": null,
   "metadata": {
    "collapsed": true
   },
   "outputs": [],
   "source": []
  }
 ],
 "metadata": {
  "kernelspec": {
   "display_name": "Python 3",
   "language": "python",
   "name": "python3"
  },
  "language_info": {
   "codemirror_mode": {
    "name": "ipython",
    "version": 3
   },
   "file_extension": ".py",
   "mimetype": "text/x-python",
   "name": "python",
   "nbconvert_exporter": "python",
   "pygments_lexer": "ipython3",
   "version": "3.5.2"
  }
 },
 "nbformat": 4,
 "nbformat_minor": 0
}
