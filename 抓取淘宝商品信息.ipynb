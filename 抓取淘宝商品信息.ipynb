{
 "cells": [
  {
   "cell_type": "code",
   "execution_count": 1,
   "metadata": {
    "collapsed": false
   },
   "outputs": [],
   "source": [
    "import requests\n",
    "from bs4 import BeautifulSoup\n",
    "import pandas as pd"
   ]
  },
  {
   "cell_type": "code",
   "execution_count": 2,
   "metadata": {
    "collapsed": true
   },
   "outputs": [],
   "source": [
    "url = 'https://world.taobao.com/search/json.htm?navigator=all&_ksTS=1481852895654_41&spm=a21bp.7806943.20151106.1&search_type=0&_input_charset=utf-8&json=on&q=100%25%E5%85%A8%E9%BA%A6%E7%B2%89&cna=Dd0TEMtX5wsCAXPBrNqwX4B1&callback=__jsonp_cb&abtest=_AB-LR517-LR854-LR895-PR517-PR854-PR895&nid=&type=&uniqpid='\n",
    "\n",
    "wb_data = requests.get(url)\n",
    "\n",
    "wb_html = wb_data.text"
   ]
  },
  {
   "cell_type": "code",
   "execution_count": 3,
   "metadata": {
    "collapsed": false
   },
   "outputs": [
    {
     "data": {
      "text/plain": [
       "[]"
      ]
     },
     "execution_count": 3,
     "metadata": {},
     "output_type": "execute_result"
    }
   ],
   "source": [
    "soup=BeautifulSoup(wb_html,'lxml')\n",
    "soup.select('div > div > ul > li')  # 找不到。因为数据独立存于js里，并不能一般地解析DOM结构"
   ]
  },
  {
   "cell_type": "markdown",
   "metadata": {},
   "source": [
    "## 用Json 和正则"
   ]
  },
  {
   "cell_type": "code",
   "execution_count": 4,
   "metadata": {
    "collapsed": true
   },
   "outputs": [],
   "source": [
    "import json\n",
    "import re"
   ]
  },
  {
   "cell_type": "code",
   "execution_count": 5,
   "metadata": {
    "collapsed": false
   },
   "outputs": [],
   "source": [
    "#wb_data.text # 或者print(soup.text)"
   ]
  },
  {
   "cell_type": "code",
   "execution_count": 6,
   "metadata": {
    "collapsed": false
   },
   "outputs": [],
   "source": [
    "m = re.search(r'if\\(window.__jsonp_cb\\)\\{__jsonp_cb\\((.*?)\\)\\}',wb_data.text) \n",
    "                                    # 因为无法确定中间是否有其他重复内容导致re.search不完整，\n",
    "                                    # 索性通过开头结尾的唯一性来获取完整的全部内容，通过小括号包裹想要的内容\n",
    "#print(m.group(1))                   # 再用group(1)。从而保证完整性"
   ]
  },
  {
   "cell_type": "code",
   "execution_count": 7,
   "metadata": {
    "collapsed": true
   },
   "outputs": [],
   "source": [
    "jd = json.loads(m.group(1))   # 将Json 字符串 转换成 python数据结构"
   ]
  },
  {
   "cell_type": "markdown",
   "metadata": {},
   "source": [
    "## 若是简单的对齐的数据，可以直接将字典转换成pandas.DataFrame，但发现这个数据结构很复杂，字典里套字典。如何观察提炼？"
   ]
  },
  {
   "cell_type": "code",
   "execution_count": 8,
   "metadata": {
    "collapsed": false
   },
   "outputs": [],
   "source": [
    "# 方法一：将Json字符串（不是字典）写入文档再通过浏览器读取，同样的检查元素操作，preview会重新排版，方便观察数据；然后用python字典的方式提炼\n",
    "# 方法二：同样通过在原网页结构中，检查各元素定位属性 如 'div id=list-itemList' 但相对繁琐\n",
    "\n",
    "with open('taobao.json','w') as f:  \n",
    "    f.write(json.dumps(jd))   #  然后用浏览器打开这个json文件"
   ]
  },
  {
   "cell_type": "code",
   "execution_count": 9,
   "metadata": {
    "collapsed": false
   },
   "outputs": [
    {
     "name": "stdout",
     "output_type": "stream",
     "text": [
      "沂蒙山村杂粮铺 \t 全麦面粉 农家现磨石磨含麦麸皮小麦粉 100%全麦粉面包粉 包邮5斤 \t 27.00\n",
      "ku酷衣 \t 张家口坝上张北100%纯莜面面粉莜麦面粉燕麦面粉全麦莜面粉8斤 \t 28.00\n",
      "yan_boy \t 【弘毅生态农场】六不用全麦面粉非转基因（10斤）出粉率100% \t 85.00\n",
      "liubohs9201180 \t 全麦粉 高筋面粉 含麦麸的100% 烘培原料 无添加剂 5kg袋装 包邮 \t 51.77\n",
      "ku酷衣 \t 张家口坝上张北100%纯莜面面粉莜麦面粉燕麦面粉全麦莜面粉5斤包 \t 31.80\n",
      "栗子的一切 \t 【亦姜妈妈放心农产品】2015全麦面粉石磨面粉100%麸皮带胚芽 \t 5.50\n",
      "周月平8888 \t 100%纯全麦荞面粉 荞麦面粉 荞面无糖食品面粉荞麦面1000克 \t 10.00\n",
      "食里香农家店 \t 农家自种100%纯生黑麦粉 裸麦粉 麦麸全麦面粉杂粮面包粉五斤包邮 \t 6.50\n",
      "蔡武不卖假货 \t 日本制粉Nippn100%全麦快熟营养扭扭通心粉(2分钟) 日期最新 \t 10.20\n",
      "蔡武不卖假货 \t 日本Nippn100%全麦多彩4分钟快熟营养通心粉扭扭通粉150g日期最新 \t 10.00\n",
      "卡米的幻想 \t 日本制粉Nippn100%全麦快熟营养扭扭粉 通心粉通心面 2分钟 200g \t 28.00\n",
      "fade_bogod \t 日本Nippn 100%全麦婴儿童宝宝辅食快熟2分钟营养面条通心粉 200g \t 22.00\n",
      "阳的快乐生活 \t 日本制粉Nippn100%全麦多彩快熟营养通心粉/扭扭通粉(4分钟快熟) \t 16.00\n",
      "卡车族 \t 日本Nippn儿童100%全麦快熟营养扭扭通心粉 2分钟宝宝意面条 200g \t 20.00\n",
      "young_ting \t 日本制Nippn100%全麦谷物通粉幼儿童宝宝扭扭面条2分钟即食手动 \t 13.50\n",
      "春之青叶 \t 日本制粉Nippn100%全麦快熟营养扭扭芬 通心粉通心面(2分钟)200g \t 15.80\n",
      "ljf580231 \t 张家口张北100%纯莜面莜麦面粉燕麦面粉全麦莜面粉笨莜面8斤 \t 38.00\n",
      "youyoucaoxilie \t 100%纯全麦荞面粉 荞麦面粉 荞面饸饹面条无糖食品面粉 8斤装包邮 \t 35.00\n",
      "meierxue88 \t 山西大同特产无糖100%纯莜面面粉莜麦燕麦面粉全麦莜面粉8斤 包邮 \t 5.50\n",
      "zoey198_2013 \t 美国进口紅磨坊Bob's Red Mill100%石磨有机全麦高筋面粉1.36kg \t 68.00\n",
      "ljf580231 \t 张家口坝上张北100%纯莜面面粉莜麦面粉燕麦面粉全麦莜面粉5斤 \t 31.80\n",
      "小白兔拔蘑菇 \t 农家荞麦粉 纯荞麦面粉500g纯天然100%纯荞面粉全麦馒头饺子杂粮 \t 4.80\n",
      "灰姑娘在努力 \t 美国Bob's red mill 红磨坊有机100%石磨全麦烘焙面粉 澳门代购 \t 79.00\n",
      "张家口青石电商有限公司 \t 张家口特产无糖100%纯莜面面粉莜麦燕麦面粉全麦莜面粉8斤 \t 68.00\n",
      "爱拜多1314 \t 麦面粉 农家现磨石磨含麦麸皮小麦粉 100%全麦粉面包粉 包邮5斤全 \t 29.90\n",
      "liangbin8888 \t 耕农100%全麦面粉，精选皖北优质小麦，100%磨制 \t 36.00\n",
      "用良心做粮品 \t 100%全麦粉 \t 120.00\n",
      "用良心做粮品 \t 100%全麦粉 \t 75.00\n",
      "笑笑商贸中心 \t 全麦面粉 农家现磨石磨含麦麸皮小麦粉 100%全麦粉面包粉 包邮5斤 \t 15.90\n",
      "小薇薇0727 \t 2015新苦荞粉 纯荞麦面粉 全麦面粉 糕点粉烘焙原料100%纯苦荞粉 \t 15.60\n",
      "臧含卓197926 \t 磨石磨含麦麸皮小麦粉 100%全麦粉面包粉 包邮5斤全麦面粉 农家现 \t 33.80\n",
      "小晴阳rui \t 美国直邮亚瑟王King Arthur 100%谷物白面粉/全麦粉2250g \t 277.00\n",
      "曾宪慰律师 \t 包邮 内蒙特产 宇田生态全麦粉 100%河套小麦绿色营养健康 5000克 \t 142.80\n",
      "漫步青云2009 \t 日本制粉Nippn 100%全麦快熟营养扭扭通心粉(2分钟) 200g \t 11.00\n",
      "lin8510131 \t 【双宝家】日本制粉日清100%全麦快熟营养日清扭扭通心粉面2分钟 \t 16.00\n",
      "漫步青云2009 \t 日购本制粉Nippn 100%全麦多彩快熟营养通心粉/扭扭通粉(4分钟) \t 10.00\n",
      "wq171628733 \t 日本制粉Nippn100%全麦营养扭扭通心粉 宝宝面条(2分钟快熟)200g \t 20.00\n",
      "随便弄两个保健品店 \t 日购本制粉Nippn 100%全麦多彩快熟营养通心粉/扭扭通粉(4分钟) \t 11.00\n",
      "young_ting \t 日本制Nippn 100%全麦多彩色通心粉幼儿童宝宝蔬菜面条4分钟即食 \t 13.50\n",
      "pinkniy \t 原装进口 日本制粉Nippn100%全麦快熟营养扭扭通心粉(2分钟) 200g \t 18.00\n",
      "疯叮ss \t 12月+日本代购Nippn100%全麦营养儿童通心粉通心面宝宝辅食19.6 \t 15.99\n",
      "深圳点精坊 \t 日购本制粉Nippn 100%全麦多彩快熟营养通心粉/扭扭通粉(4分钟) \t 12.00\n",
      "花牛果王 \t 天水荞麦面粉 100%纯全麦荞面粉 天水特产 呱呱 凉粉原料 \t 10.00\n",
      "robinyantao \t Nippn100%全麦快熟营养扭扭芬 通心粉通心面(2分钟)200g \t 18.00\n",
      "疯叮ss \t 7月+日本代购Nippn 100%全麦多彩色通心粉幼儿童宝宝蔬菜面条19.2 \t 15.99\n",
      "贺明月2011 \t 日本进口ohmy通心粉 100%全麦扭扭粉 宝宝辅食早餐 意大利面 200g \t 15.80\n",
      "乱舞功夫 \t 日本代购 Nippn100%全麦快熟宝宝通心粉美味多彩营养通心粉150g \t 20.00\n",
      "xjh.hash \t 喜愿自然食品 - 85面粉/全麦面粉100% \t 30.00\n",
      "liubohs9201180 \t 黑麦粉 高筋黑全麦通用粉含100% 麦麸 富硒食物原材料 5kg袋包邮 \t 67.77\n",
      "jwboyi \t 现货 日本Nippn 100%全麦彩色通心粉 通心面宝宝造型面 \t 20.00\n",
      "tengda5848 \t 日本进口食品扭扭通心粉制粉Nippn100%全麦快熟2分钟营养辅食200g \t 11.00\n",
      "qi_qi_1128 \t 日本Nippn100%全麦快熟营养扭扭通心粉2分钟200g 17.11月16542 \t 13.80\n",
      "健康不生病 \t 日本制Nippn 100%全麦多彩快熟营养通心粉/扭扭通粉(4分钟)150G \t 18.00\n",
      "windybaobei \t 18.4日本制粉Nippn100%全麦快熟营养扭扭通心粉面条(2分钟) \t 16.80\n",
      "小宝宝福 \t 【现货满2包包邮】荷兰著名Penne100%有机全麦营养意大利面通心粉 \t 49.00\n",
      "乱舞功夫 \t 日本代购oh my通心粉100%全麦螺旋形通心粉扭扭粉意大利面 200g \t 20.00\n",
      "windybaobei \t 日本制粉Nippn100%全麦快熟营养多彩扭扭通心粉面条(4分钟) \t 16.80\n",
      "深圳点精坊 \t 日本Nippn100%全麦多彩快熟营养通心粉/扭扭通粉(4分钟）新日期 \t 10.50\n",
      "tb8133110_22 \t 2分钟速熟 日本Nippn100%全麦快熟营养扭扭通心粉/通粉/意面 \t 18.00\n",
      "前鸠美步 \t 香港代购 日本Nippn100%全麦营养通心粉 2分钟快熟型BB通心粉200g \t 17.00\n"
     ]
    }
   ],
   "source": [
    "for item in jd['itemList']: # 观察发现，商品信息位于‘itemList’\n",
    "    print(item['nick'],'\\t',item['tip'],'\\t',item['price'])     # 店铺名称，价格\n",
    "    "
   ]
  },
  {
   "cell_type": "code",
   "execution_count": 10,
   "metadata": {
    "collapsed": false,
    "scrolled": true
   },
   "outputs": [],
   "source": [
    "# 也可以直接用pandas.DataFrame。\n",
    "df=pd.DataFrame(jd['itemList'])\n",
    "#df.head()"
   ]
  },
  {
   "cell_type": "markdown",
   "metadata": {},
   "source": [
    "# 数据规整：删除含有缺失值的列;将一些数值列dtypes由object 转换为数值型 "
   ]
  },
  {
   "cell_type": "code",
   "execution_count": 11,
   "metadata": {
    "collapsed": true
   },
   "outputs": [],
   "source": [
    "import numpy as np\n",
    "\n",
    "df=df.applymap(lambda x: np.nan if x =='' else x)  # 此处用匿名函数和广播方法，填充缺失值"
   ]
  },
  {
   "cell_type": "code",
   "execution_count": 12,
   "metadata": {
    "collapsed": false
   },
   "outputs": [],
   "source": [
    "#df.isnull().sum()"
   ]
  },
  {
   "cell_type": "code",
   "execution_count": 13,
   "metadata": {
    "collapsed": false
   },
   "outputs": [],
   "source": [
    "df=df.dropna(axis=1)  # 删除含有缺失值的列"
   ]
  },
  {
   "cell_type": "code",
   "execution_count": 14,
   "metadata": {
    "collapsed": false
   },
   "outputs": [],
   "source": [
    "df=df.apply(lambda x:pd.to_numeric(x,errors='ignore')) # 转换dtypes"
   ]
  },
  {
   "cell_type": "code",
   "execution_count": null,
   "metadata": {
    "collapsed": true
   },
   "outputs": [],
   "source": []
  }
 ],
 "metadata": {
  "kernelspec": {
   "display_name": "Python 3",
   "language": "python",
   "name": "python3"
  },
  "language_info": {
   "codemirror_mode": {
    "name": "ipython",
    "version": 3
   },
   "file_extension": ".py",
   "mimetype": "text/x-python",
   "name": "python",
   "nbconvert_exporter": "python",
   "pygments_lexer": "ipython3",
   "version": "3.5.2"
  }
 },
 "nbformat": 4,
 "nbformat_minor": 0
}
